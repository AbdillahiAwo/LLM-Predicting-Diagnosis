{
  "nbformat": 4,
  "nbformat_minor": 0,
  "metadata": {
    "colab": {
      "provenance": []
    },
    "kernelspec": {
      "name": "python3",
      "display_name": "Python 3"
    },
    "language_info": {
      "name": "python"
    }
  },
  "cells": [
    {
      "cell_type": "markdown",
      "source": [
        "# **House MD**\n",
        "____________________________________________________________________\n",
        "____________________________________________________________________\n",
        "____________________________________________________________________"
      ],
      "metadata": {
        "id": "OmYaqCL5H6BT"
      }
    },
    {
      "cell_type": "markdown",
      "source": [
        "## To develop a Large Language Model (LLM)-assisted system that extracts structured clinical cases from TV show transcripts (House M.D.), identifying patient demographics, symptoms, relevant medical terms, and possible diagnoses."
      ],
      "metadata": {
        "id": "QkpTdzVClT2k"
      }
    },
    {
      "cell_type": "markdown",
      "source": [
        "## Match diagnosis to real diagnosis i will create a ground truth file and match it to the diagnosis the LLM predicted"
      ],
      "metadata": {
        "id": "RUmSjei9l_be"
      }
    },
    {
      "cell_type": "code",
      "source": [
        "!pip install kagglehub --quiet\n",
        "\n",
        "import os\n",
        "import pandas as pd\n",
        "import numpy as np\n",
        "import matplotlib.pyplot as plt\n",
        "import seaborn as sns\n",
        "from PIL import Image\n",
        "from glob import glob\n",
        "import tensorflow as tf\n",
        "from tensorflow.keras.preprocessing.image import ImageDataGenerator\n",
        "from sklearn.model_selection import train_test_split\n",
        "from tensorflow.keras import layers, models"
      ],
      "metadata": {
        "id": "Do825CImH8v3"
      },
      "execution_count": null,
      "outputs": []
    },
    {
      "cell_type": "markdown",
      "source": [
        "Data Understanding"
      ],
      "metadata": {
        "id": "IKAcgHhjIfl9"
      }
    },
    {
      "cell_type": "code",
      "source": [
        "import kagglehub\n",
        "\n",
        "path = kagglehub.dataset_download(\"kunalbhar/house-md-transcripts\")\n",
        "\n",
        "print(\"Path to dataset files:\", path)"
      ],
      "metadata": {
        "colab": {
          "base_uri": "https://localhost:8080/"
        },
        "id": "sQW9--fLIQU9",
        "outputId": "3f12d290-0a3b-4c01-aadd-24c8a733e24c"
      },
      "execution_count": null,
      "outputs": [
        {
          "output_type": "stream",
          "name": "stdout",
          "text": [
            "Downloading from https://www.kaggle.com/api/v1/datasets/download/kunalbhar/house-md-transcripts?dataset_version_number=2...\n"
          ]
        },
        {
          "output_type": "stream",
          "name": "stderr",
          "text": [
            "100%|██████████| 2.15M/2.15M [00:00<00:00, 69.4MB/s]"
          ]
        },
        {
          "output_type": "stream",
          "name": "stdout",
          "text": [
            "Extracting files...\n",
            "Path to dataset files: /root/.cache/kagglehub/datasets/kunalbhar/house-md-transcripts/versions/2\n"
          ]
        },
        {
          "output_type": "stream",
          "name": "stderr",
          "text": [
            "\n"
          ]
        }
      ]
    },
    {
      "cell_type": "code",
      "source": [
        "files = glob.glob(os.path.join(path, \"*.csv\"))\n",
        "dfs = []\n",
        "for season_num, f in enumerate(sorted(files), start=1):\n",
        "    df = pd.read_csv(f, encoding='unicode_escape')\n",
        "    df['season'] = season_num\n",
        "    df['name'] = df['name'].str.strip()\n",
        "    dfs.append(df)\n",
        "\n",
        "all_transcripts = pd.concat(dfs, ignore_index=True)\n",
        "\n",
        "print(all_transcripts.head())\n",
        "print(\"Shape:\", all_transcripts.shape)"
      ],
      "metadata": {
        "colab": {
          "base_uri": "https://localhost:8080/"
        },
        "id": "29L2I7q1VRSo",
        "outputId": "eb91b058-5714-4ad4-b60b-8d89bf6f364c"
      },
      "execution_count": null,
      "outputs": [
        {
          "output_type": "stream",
          "name": "stdout",
          "text": [
            "      name                                               line  season\n",
            "0  Melanie                                  Why are you late?       1\n",
            "1  Rebecca               You're not going to like the answer.       1\n",
            "2  Melanie                         I already know the answer.       1\n",
            "3  Rebecca                                  I missed the bus.       1\n",
            "4  Melanie   I don't doubt it, no bus stops near Brad's. Y...       1\n",
            "Shape: (75312, 3)\n"
          ]
        }
      ]
    },
    {
      "cell_type": "code",
      "source": [
        "medical_keywords = [\"fever\", \"pain\", \"lesion\", \"rash\", \"seizure\", \"tumor\", \"MRI\", \"scan\", \"blood\", \"test\", \"cough\", \"biopsy\"]\n",
        "pattern = '|'.join(medical_keywords)\n",
        "\n",
        "med_df = all_transcripts[all_transcripts['line'].str.contains(pattern, case=False, na=False)]"
      ],
      "metadata": {
        "id": "sIJED3KpcVTH"
      },
      "execution_count": null,
      "outputs": []
    },
    {
      "cell_type": "code",
      "source": [
        "import os\n",
        "\n",
        "print(\"Uploaded files:\", os.listdir())"
      ],
      "metadata": {
        "colab": {
          "base_uri": "https://localhost:8080/"
        },
        "id": "1p-FO9BXw4Ly",
        "outputId": "45582784-4ad6-46f3-9f1b-2a42606b4878"
      },
      "execution_count": null,
      "outputs": [
        {
          "output_type": "stream",
          "name": "stdout",
          "text": [
            "Uploaded files: ['.config', 'season2.csv', 'season8.csv', 'season4.csv', 'season3.csv', '.ipynb_checkpoints', 'season1.csv', 'season5.csv', 'season6.csv', 'season7.csv', 'sample_data']\n"
          ]
        }
      ]
    },
    {
      "cell_type": "code",
      "source": [
        "file_list = [f\"season{i}.csv\" for i in range(1, 9)]\n",
        "\n",
        "dfs = []\n",
        "for season_num, filename in enumerate(file_list, start=1):\n",
        "    df = pd.read_csv(filename, encoding='unicode_escape')\n",
        "    df['season'] = season_num\n",
        "    df['name'] = df['name'].str.strip()\n",
        "    dfs.append(df)\n",
        "\n",
        "all_transcripts = pd.concat(dfs, ignore_index=True)\n",
        "\n",
        "print(\" Loaded all transcripts!\")\n",
        "print(\"Shape:\", all_transcripts.shape)\n",
        "all_transcripts.head()"
      ],
      "metadata": {
        "colab": {
          "base_uri": "https://localhost:8080/",
          "height": 241
        },
        "id": "l1lmmjz8zGel",
        "outputId": "75bd916b-96b6-4c4a-8e0d-f978f588e3bb"
      },
      "execution_count": null,
      "outputs": [
        {
          "output_type": "stream",
          "name": "stdout",
          "text": [
            " Loaded all transcripts!\n",
            "Shape: (75312, 3)\n"
          ]
        },
        {
          "output_type": "execute_result",
          "data": {
            "text/plain": [
              "      name                                               line  season\n",
              "0  Melanie                                  Why are you late?       1\n",
              "1  Rebecca               You're not going to like the answer.       1\n",
              "2  Melanie                         I already know the answer.       1\n",
              "3  Rebecca                                  I missed the bus.       1\n",
              "4  Melanie   I don't doubt it, no bus stops near Brad's. Y...       1"
            ],
            "text/html": [
              "\n",
              "  <div id=\"df-aff6c9e6-cb85-4fd9-9cef-99d8bcf79365\" class=\"colab-df-container\">\n",
              "    <div>\n",
              "<style scoped>\n",
              "    .dataframe tbody tr th:only-of-type {\n",
              "        vertical-align: middle;\n",
              "    }\n",
              "\n",
              "    .dataframe tbody tr th {\n",
              "        vertical-align: top;\n",
              "    }\n",
              "\n",
              "    .dataframe thead th {\n",
              "        text-align: right;\n",
              "    }\n",
              "</style>\n",
              "<table border=\"1\" class=\"dataframe\">\n",
              "  <thead>\n",
              "    <tr style=\"text-align: right;\">\n",
              "      <th></th>\n",
              "      <th>name</th>\n",
              "      <th>line</th>\n",
              "      <th>season</th>\n",
              "    </tr>\n",
              "  </thead>\n",
              "  <tbody>\n",
              "    <tr>\n",
              "      <th>0</th>\n",
              "      <td>Melanie</td>\n",
              "      <td>Why are you late?</td>\n",
              "      <td>1</td>\n",
              "    </tr>\n",
              "    <tr>\n",
              "      <th>1</th>\n",
              "      <td>Rebecca</td>\n",
              "      <td>You're not going to like the answer.</td>\n",
              "      <td>1</td>\n",
              "    </tr>\n",
              "    <tr>\n",
              "      <th>2</th>\n",
              "      <td>Melanie</td>\n",
              "      <td>I already know the answer.</td>\n",
              "      <td>1</td>\n",
              "    </tr>\n",
              "    <tr>\n",
              "      <th>3</th>\n",
              "      <td>Rebecca</td>\n",
              "      <td>I missed the bus.</td>\n",
              "      <td>1</td>\n",
              "    </tr>\n",
              "    <tr>\n",
              "      <th>4</th>\n",
              "      <td>Melanie</td>\n",
              "      <td>I don't doubt it, no bus stops near Brad's. Y...</td>\n",
              "      <td>1</td>\n",
              "    </tr>\n",
              "  </tbody>\n",
              "</table>\n",
              "</div>\n",
              "    <div class=\"colab-df-buttons\">\n",
              "\n",
              "  <div class=\"colab-df-container\">\n",
              "    <button class=\"colab-df-convert\" onclick=\"convertToInteractive('df-aff6c9e6-cb85-4fd9-9cef-99d8bcf79365')\"\n",
              "            title=\"Convert this dataframe to an interactive table.\"\n",
              "            style=\"display:none;\">\n",
              "\n",
              "  <svg xmlns=\"http://www.w3.org/2000/svg\" height=\"24px\" viewBox=\"0 -960 960 960\">\n",
              "    <path d=\"M120-120v-720h720v720H120Zm60-500h600v-160H180v160Zm220 220h160v-160H400v160Zm0 220h160v-160H400v160ZM180-400h160v-160H180v160Zm440 0h160v-160H620v160ZM180-180h160v-160H180v160Zm440 0h160v-160H620v160Z\"/>\n",
              "  </svg>\n",
              "    </button>\n",
              "\n",
              "  <style>\n",
              "    .colab-df-container {\n",
              "      display:flex;\n",
              "      gap: 12px;\n",
              "    }\n",
              "\n",
              "    .colab-df-convert {\n",
              "      background-color: #E8F0FE;\n",
              "      border: none;\n",
              "      border-radius: 50%;\n",
              "      cursor: pointer;\n",
              "      display: none;\n",
              "      fill: #1967D2;\n",
              "      height: 32px;\n",
              "      padding: 0 0 0 0;\n",
              "      width: 32px;\n",
              "    }\n",
              "\n",
              "    .colab-df-convert:hover {\n",
              "      background-color: #E2EBFA;\n",
              "      box-shadow: 0px 1px 2px rgba(60, 64, 67, 0.3), 0px 1px 3px 1px rgba(60, 64, 67, 0.15);\n",
              "      fill: #174EA6;\n",
              "    }\n",
              "\n",
              "    .colab-df-buttons div {\n",
              "      margin-bottom: 4px;\n",
              "    }\n",
              "\n",
              "    [theme=dark] .colab-df-convert {\n",
              "      background-color: #3B4455;\n",
              "      fill: #D2E3FC;\n",
              "    }\n",
              "\n",
              "    [theme=dark] .colab-df-convert:hover {\n",
              "      background-color: #434B5C;\n",
              "      box-shadow: 0px 1px 3px 1px rgba(0, 0, 0, 0.15);\n",
              "      filter: drop-shadow(0px 1px 2px rgba(0, 0, 0, 0.3));\n",
              "      fill: #FFFFFF;\n",
              "    }\n",
              "  </style>\n",
              "\n",
              "    <script>\n",
              "      const buttonEl =\n",
              "        document.querySelector('#df-aff6c9e6-cb85-4fd9-9cef-99d8bcf79365 button.colab-df-convert');\n",
              "      buttonEl.style.display =\n",
              "        google.colab.kernel.accessAllowed ? 'block' : 'none';\n",
              "\n",
              "      async function convertToInteractive(key) {\n",
              "        const element = document.querySelector('#df-aff6c9e6-cb85-4fd9-9cef-99d8bcf79365');\n",
              "        const dataTable =\n",
              "          await google.colab.kernel.invokeFunction('convertToInteractive',\n",
              "                                                    [key], {});\n",
              "        if (!dataTable) return;\n",
              "\n",
              "        const docLinkHtml = 'Like what you see? Visit the ' +\n",
              "          '<a target=\"_blank\" href=https://colab.research.google.com/notebooks/data_table.ipynb>data table notebook</a>'\n",
              "          + ' to learn more about interactive tables.';\n",
              "        element.innerHTML = '';\n",
              "        dataTable['output_type'] = 'display_data';\n",
              "        await google.colab.output.renderOutput(dataTable, element);\n",
              "        const docLink = document.createElement('div');\n",
              "        docLink.innerHTML = docLinkHtml;\n",
              "        element.appendChild(docLink);\n",
              "      }\n",
              "    </script>\n",
              "  </div>\n",
              "\n",
              "\n",
              "    <div id=\"df-fcc69eb6-3e4d-4014-8dd5-368bcc6b205b\">\n",
              "      <button class=\"colab-df-quickchart\" onclick=\"quickchart('df-fcc69eb6-3e4d-4014-8dd5-368bcc6b205b')\"\n",
              "                title=\"Suggest charts\"\n",
              "                style=\"display:none;\">\n",
              "\n",
              "<svg xmlns=\"http://www.w3.org/2000/svg\" height=\"24px\"viewBox=\"0 0 24 24\"\n",
              "     width=\"24px\">\n",
              "    <g>\n",
              "        <path d=\"M19 3H5c-1.1 0-2 .9-2 2v14c0 1.1.9 2 2 2h14c1.1 0 2-.9 2-2V5c0-1.1-.9-2-2-2zM9 17H7v-7h2v7zm4 0h-2V7h2v10zm4 0h-2v-4h2v4z\"/>\n",
              "    </g>\n",
              "</svg>\n",
              "      </button>\n",
              "\n",
              "<style>\n",
              "  .colab-df-quickchart {\n",
              "      --bg-color: #E8F0FE;\n",
              "      --fill-color: #1967D2;\n",
              "      --hover-bg-color: #E2EBFA;\n",
              "      --hover-fill-color: #174EA6;\n",
              "      --disabled-fill-color: #AAA;\n",
              "      --disabled-bg-color: #DDD;\n",
              "  }\n",
              "\n",
              "  [theme=dark] .colab-df-quickchart {\n",
              "      --bg-color: #3B4455;\n",
              "      --fill-color: #D2E3FC;\n",
              "      --hover-bg-color: #434B5C;\n",
              "      --hover-fill-color: #FFFFFF;\n",
              "      --disabled-bg-color: #3B4455;\n",
              "      --disabled-fill-color: #666;\n",
              "  }\n",
              "\n",
              "  .colab-df-quickchart {\n",
              "    background-color: var(--bg-color);\n",
              "    border: none;\n",
              "    border-radius: 50%;\n",
              "    cursor: pointer;\n",
              "    display: none;\n",
              "    fill: var(--fill-color);\n",
              "    height: 32px;\n",
              "    padding: 0;\n",
              "    width: 32px;\n",
              "  }\n",
              "\n",
              "  .colab-df-quickchart:hover {\n",
              "    background-color: var(--hover-bg-color);\n",
              "    box-shadow: 0 1px 2px rgba(60, 64, 67, 0.3), 0 1px 3px 1px rgba(60, 64, 67, 0.15);\n",
              "    fill: var(--button-hover-fill-color);\n",
              "  }\n",
              "\n",
              "  .colab-df-quickchart-complete:disabled,\n",
              "  .colab-df-quickchart-complete:disabled:hover {\n",
              "    background-color: var(--disabled-bg-color);\n",
              "    fill: var(--disabled-fill-color);\n",
              "    box-shadow: none;\n",
              "  }\n",
              "\n",
              "  .colab-df-spinner {\n",
              "    border: 2px solid var(--fill-color);\n",
              "    border-color: transparent;\n",
              "    border-bottom-color: var(--fill-color);\n",
              "    animation:\n",
              "      spin 1s steps(1) infinite;\n",
              "  }\n",
              "\n",
              "  @keyframes spin {\n",
              "    0% {\n",
              "      border-color: transparent;\n",
              "      border-bottom-color: var(--fill-color);\n",
              "      border-left-color: var(--fill-color);\n",
              "    }\n",
              "    20% {\n",
              "      border-color: transparent;\n",
              "      border-left-color: var(--fill-color);\n",
              "      border-top-color: var(--fill-color);\n",
              "    }\n",
              "    30% {\n",
              "      border-color: transparent;\n",
              "      border-left-color: var(--fill-color);\n",
              "      border-top-color: var(--fill-color);\n",
              "      border-right-color: var(--fill-color);\n",
              "    }\n",
              "    40% {\n",
              "      border-color: transparent;\n",
              "      border-right-color: var(--fill-color);\n",
              "      border-top-color: var(--fill-color);\n",
              "    }\n",
              "    60% {\n",
              "      border-color: transparent;\n",
              "      border-right-color: var(--fill-color);\n",
              "    }\n",
              "    80% {\n",
              "      border-color: transparent;\n",
              "      border-right-color: var(--fill-color);\n",
              "      border-bottom-color: var(--fill-color);\n",
              "    }\n",
              "    90% {\n",
              "      border-color: transparent;\n",
              "      border-bottom-color: var(--fill-color);\n",
              "    }\n",
              "  }\n",
              "</style>\n",
              "\n",
              "      <script>\n",
              "        async function quickchart(key) {\n",
              "          const quickchartButtonEl =\n",
              "            document.querySelector('#' + key + ' button');\n",
              "          quickchartButtonEl.disabled = true;  // To prevent multiple clicks.\n",
              "          quickchartButtonEl.classList.add('colab-df-spinner');\n",
              "          try {\n",
              "            const charts = await google.colab.kernel.invokeFunction(\n",
              "                'suggestCharts', [key], {});\n",
              "          } catch (error) {\n",
              "            console.error('Error during call to suggestCharts:', error);\n",
              "          }\n",
              "          quickchartButtonEl.classList.remove('colab-df-spinner');\n",
              "          quickchartButtonEl.classList.add('colab-df-quickchart-complete');\n",
              "        }\n",
              "        (() => {\n",
              "          let quickchartButtonEl =\n",
              "            document.querySelector('#df-fcc69eb6-3e4d-4014-8dd5-368bcc6b205b button');\n",
              "          quickchartButtonEl.style.display =\n",
              "            google.colab.kernel.accessAllowed ? 'block' : 'none';\n",
              "        })();\n",
              "      </script>\n",
              "    </div>\n",
              "\n",
              "    </div>\n",
              "  </div>\n"
            ],
            "application/vnd.google.colaboratory.intrinsic+json": {
              "type": "dataframe",
              "variable_name": "all_transcripts",
              "summary": "{\n  \"name\": \"all_transcripts\",\n  \"rows\": 75312,\n  \"fields\": [\n    {\n      \"column\": \"name\",\n      \"properties\": {\n        \"dtype\": \"category\",\n        \"num_unique_values\": 1343,\n        \"samples\": [\n          \"Marco\",\n          \"REPORTER\",\n          \"Ezra\"\n        ],\n        \"semantic_type\": \"\",\n        \"description\": \"\"\n      }\n    },\n    {\n      \"column\": \"line\",\n      \"properties\": {\n        \"dtype\": \"string\",\n        \"num_unique_values\": 71107,\n        \"samples\": [\n          \" Well, if it's not meaningless sex, kinda screams out for an end game. You're the dog that's chasing the popemobile. You sure you want!\",\n          \" Cancer, but not cancer. Doesn't make any sense unless... [He pulls an x-ray from a folder.] Brain, but not brain. Occipital lobe's normal. But her eyes suck. That lobe should be compensating. Since it's not, that tells me that something's in there that shouldn't be in there. Brain, but not brain.\",\n          \" Well, you took away his pain and that, that changes a lot.\"\n        ],\n        \"semantic_type\": \"\",\n        \"description\": \"\"\n      }\n    },\n    {\n      \"column\": \"season\",\n      \"properties\": {\n        \"dtype\": \"number\",\n        \"std\": 2,\n        \"min\": 1,\n        \"max\": 8,\n        \"num_unique_values\": 8,\n        \"samples\": [\n          2,\n          6,\n          1\n        ],\n        \"semantic_type\": \"\",\n        \"description\": \"\"\n      }\n    }\n  ]\n}"
            }
          },
          "metadata": {},
          "execution_count": 26
        }
      ]
    },
    {
      "cell_type": "code",
      "source": [
        "all_transcripts.to_csv(\"house_md_all_seasons.csv\", index=False)"
      ],
      "metadata": {
        "id": "Of_pLMMIzIfV"
      },
      "execution_count": null,
      "outputs": []
    },
    {
      "cell_type": "code",
      "source": [
        "all_transcripts['episode_id'] = None\n",
        "season1_episodes = {\n",
        "    1: (0, 844),\n",
        "    2: (845, 1743),\n",
        "    3: (1744, 2614),\n",
        "    4: (2615, 3344),\n",
        "    5: (3345, 4034),\n",
        "    6: (4035, 4864),\n",
        "    7: (4865, 5664),\n",
        "    8: (5665, 6384),\n",
        "    9: (6385, 7124),\n",
        "    10: (7125, 7531)\n",
        "}\n",
        "\n",
        "for ep_id, (start, end) in season1_episodes.items():\n",
        "    mask = (all_transcripts.index >= start) & (all_transcripts.index <= end) & (all_transcripts['season'] == 1)\n",
        "    all_transcripts.loc[mask, 'episode_id'] = ep_id"
      ],
      "metadata": {
        "id": "D7PG4YgP0OHp"
      },
      "execution_count": null,
      "outputs": []
    },
    {
      "cell_type": "code",
      "source": [
        "all_transcripts[all_transcripts['season'] == 1]['episode_id'].value_counts().sort_index()"
      ],
      "metadata": {
        "colab": {
          "base_uri": "https://localhost:8080/",
          "height": 429
        },
        "id": "YUIOjJb008Ia",
        "outputId": "c32ab630-af03-453f-f160-5ef6a7d6f9c1"
      },
      "execution_count": null,
      "outputs": [
        {
          "output_type": "execute_result",
          "data": {
            "text/plain": [
              "episode_id\n",
              "1     845\n",
              "2     899\n",
              "3     871\n",
              "4     730\n",
              "5     690\n",
              "6     830\n",
              "7     800\n",
              "8     720\n",
              "9     740\n",
              "10    407\n",
              "Name: count, dtype: int64"
            ],
            "text/html": [
              "<div>\n",
              "<style scoped>\n",
              "    .dataframe tbody tr th:only-of-type {\n",
              "        vertical-align: middle;\n",
              "    }\n",
              "\n",
              "    .dataframe tbody tr th {\n",
              "        vertical-align: top;\n",
              "    }\n",
              "\n",
              "    .dataframe thead th {\n",
              "        text-align: right;\n",
              "    }\n",
              "</style>\n",
              "<table border=\"1\" class=\"dataframe\">\n",
              "  <thead>\n",
              "    <tr style=\"text-align: right;\">\n",
              "      <th></th>\n",
              "      <th>count</th>\n",
              "    </tr>\n",
              "    <tr>\n",
              "      <th>episode_id</th>\n",
              "      <th></th>\n",
              "    </tr>\n",
              "  </thead>\n",
              "  <tbody>\n",
              "    <tr>\n",
              "      <th>1</th>\n",
              "      <td>845</td>\n",
              "    </tr>\n",
              "    <tr>\n",
              "      <th>2</th>\n",
              "      <td>899</td>\n",
              "    </tr>\n",
              "    <tr>\n",
              "      <th>3</th>\n",
              "      <td>871</td>\n",
              "    </tr>\n",
              "    <tr>\n",
              "      <th>4</th>\n",
              "      <td>730</td>\n",
              "    </tr>\n",
              "    <tr>\n",
              "      <th>5</th>\n",
              "      <td>690</td>\n",
              "    </tr>\n",
              "    <tr>\n",
              "      <th>6</th>\n",
              "      <td>830</td>\n",
              "    </tr>\n",
              "    <tr>\n",
              "      <th>7</th>\n",
              "      <td>800</td>\n",
              "    </tr>\n",
              "    <tr>\n",
              "      <th>8</th>\n",
              "      <td>720</td>\n",
              "    </tr>\n",
              "    <tr>\n",
              "      <th>9</th>\n",
              "      <td>740</td>\n",
              "    </tr>\n",
              "    <tr>\n",
              "      <th>10</th>\n",
              "      <td>407</td>\n",
              "    </tr>\n",
              "  </tbody>\n",
              "</table>\n",
              "</div><br><label><b>dtype:</b> int64</label>"
            ]
          },
          "metadata": {},
          "execution_count": 25
        }
      ]
    },
    {
      "cell_type": "code",
      "source": [
        "all_transcripts['episode_id'] = None\n",
        "season1_episodes = {\n",
        "    1: (0, 844),\n",
        "    2: (845, 1743),\n",
        "    3: (1744, 2614),\n",
        "    4: (2615, 3344),\n",
        "    5: (3345, 4034),\n",
        "    6: (4035, 4864),\n",
        "    7: (4865, 5664),\n",
        "    8: (5665, 6384),\n",
        "    9: (6385, 7124),\n",
        "    10: (7125, 7531)\n",
        "}\n",
        "\n",
        "for ep_id, (start, end) in season1_episodes.items():\n",
        "    mask = (all_transcripts.index >= start) & (all_transcripts.index <= end) & (all_transcripts['season'] == 1)\n",
        "    all_transcripts.loc[mask, 'episode_id'] = ep_id"
      ],
      "metadata": {
        "id": "CzSTMHPv1OMG"
      },
      "execution_count": null,
      "outputs": []
    },
    {
      "cell_type": "code",
      "source": [
        "medical_keywords = [\n",
        "    \"fever\", \"pain\", \"cough\", \"rash\", \"MRI\", \"scan\", \"tumor\", \"biopsy\", \"lesion\",\n",
        "    \"headache\", \"seizure\", \"blood\", \"pressure\", \"diagnosis\", \"reaction\", \"treatment\",\n",
        "    \"fatigue\", \"symptom\", \"speech\", \"gadolinium\", \"allergic\", \"orange\", \"jaundice\", \"medication\"\n",
        "]\n",
        "\n",
        "pattern = '|'.join(medical_keywords)\n",
        "\n",
        "ep1 = all_transcripts[(all_transcripts['season'] == 1) & (all_transcripts['episode_id'] == 1)]\n",
        "\n",
        "ep1_medical = ep1[ep1['line'].str.contains(pattern, case=False, na=False)]\n",
        "\n",
        "print(ep1_medical[['name', 'line']].head())"
      ],
      "metadata": {
        "colab": {
          "base_uri": "https://localhost:8080/"
        },
        "id": "YO0_Q8ao1eYN",
        "outputId": "9ff52e4b-4f05-41a9-e2a5-9f3e2258109e"
      },
      "execution_count": null,
      "outputs": [
        {
          "output_type": "stream",
          "name": "stdout",
          "text": [
            "       name                                               line\n",
            "32   Wilson   29 year old female, first seizure one month a...\n",
            "41    House   And your cousin doesn't like the diagnosis. I...\n",
            "44   Wilson   Hah, yes, just a simple country doctor. Brain...\n",
            "52   Wilson   And she's not responding to radiation treatment.\n",
            "55  Foreman                                     It's a lesion.\n"
          ]
        }
      ]
    },
    {
      "cell_type": "code",
      "source": [
        "import re\n",
        "\n",
        "def clean_case_note(raw_text):\n",
        "    \"\"\"\n",
        "    Cleans a House M.D. episode summary into a structured, clinical-style case note.\n",
        "\n",
        "    Parameters:\n",
        "        raw_text (str): Unstructured script dialogue with medical content\n",
        "\n",
        "    Returns:\n",
        "        str: Cleaned, structured patient case\n",
        "    \"\"\"\n",
        "\n",
        "    text = raw_text\n",
        "\n",
        "    sarcasm_patterns = [\n",
        "        r\"she's gonna die.*?\\.\",\n",
        "        r\"boring\",\n",
        "        r\"humanity is overrated\",\n",
        "        r\"if we don't talk to them.*?\\.\",\n",
        "        r\"are you in.*?school\\?\",\n",
        "        r\"country doctor\",\n",
        "        r\"horses.*?zebras\",\n",
        "        r\"kindly family doctor.*?\\.\",\n",
        "        r\"differential diagnosis.*?:\",\n",
        "    ]\n",
        "    for pattern in sarcasm_patterns:\n",
        "        text = re.sub(pattern, '', text, flags=re.IGNORECASE)\n",
        "\n",
        "    text = re.sub(r'\\s+', ' ', text).strip()\n",
        "\n",
        "    symptom_keywords = [\n",
        "        \"seizure\", \"loss of speech\", \"mental status\", \"lesion\", \"MRI\", \"CAT scan\",\n",
        "        \"tumor\", \"radiation\", \"Wernick\", \"thiamine\", \"blood test\"\n",
        "    ]\n",
        "\n",
        "    bullet_lines = []\n",
        "    for kw in symptom_keywords:\n",
        "        match = re.search(r'([^.]*?'+re.escape(kw)+r'[^.]*\\.)', text, flags=re.IGNORECASE)\n",
        "        if match:\n",
        "            bullet_lines.append(\"- \" + match.group(1).strip())\n",
        "\n",
        "    if bullet_lines:\n",
        "        cleaned = \"\\n\".join(bullet_lines)\n",
        "    else:\n",
        "        cleaned = text\n",
        "\n",
        "    return cleaned"
      ],
      "metadata": {
        "id": "a4y7XhtP5Esp"
      },
      "execution_count": null,
      "outputs": []
    },
    {
      "cell_type": "code",
      "source": [
        "import re\n",
        "\n",
        "def clean_case_note(text):\n",
        "    \"\"\"\n",
        "    Cleans raw House M.D. episode text by removing sarcastic, conversational, or non-medical lines.\n",
        "\n",
        "    Parameters:\n",
        "        text (str): Raw merged text of medical-ish lines\n",
        "\n",
        "    Returns:\n",
        "        str: Cleaned, structured text ready for diagnosis or LLM prompting\n",
        "    \"\"\"\n",
        "\n",
        "    lines = text.split(\". \")\n",
        "    cleaned_lines = []\n",
        "\n",
        "    ignore_patterns = [\n",
        "        r\"\\b(boring|just a simple country doctor|humanity is overrated|first year of medical school|everybody lies|philosopher)\\b\",\n",
        "        r\"\\b(are you|no, yes, hah|gonna die|talk to them|i don't think it's a tumor|horses|zebra)\\b\",\n",
        "        r\"\\b(don't want them to think|if we don't talk to them)\\b\",\n",
        "        r\"\\b(ha+h|sarcasm|lie to us|joke|fired|resign)\\b\",\n",
        "        r\"[^\\w\\s]+.{0,30}(boring|gonna die|who cares)\",\n",
        "        r\"^\\s*$\"\n",
        "    ]\n",
        "\n",
        "    ignore_re = re.compile('|'.join(ignore_patterns), re.IGNORECASE)\n",
        "\n",
        "    for line in lines:\n",
        "        if not ignore_re.search(line):\n",
        "            cleaned_lines.append(line.strip())\n",
        "\n",
        "    cleaned = \". \".join(cleaned_lines)\n",
        "    return cleaned.strip()"
      ],
      "metadata": {
        "id": "kuD6O5Sv5y9M"
      },
      "execution_count": null,
      "outputs": []
    },
    {
      "cell_type": "code",
      "source": [
        "raw_note = extract_medical_lines(all_transcripts, season=1, episode=1)\n",
        "cleaned_note = clean_case_note(raw_note)\n",
        "\n",
        "print(\"Cleaned Case Note:\")\n",
        "print(cleaned_note[:1000], \"...\")"
      ],
      "metadata": {
        "colab": {
          "base_uri": "https://localhost:8080/"
        },
        "id": "08JVcfp06M1U",
        "outputId": "51b0fda0-f62f-4ae7-e6d6-aba68cf10df2"
      },
      "execution_count": null,
      "outputs": [
        {
          "output_type": "stream",
          "name": "stdout",
          "text": [
            "Cleaned Case Note:\n",
            "29 year old female, first seizure one month ago, lost the ability to speak. Babbled like a baby. Present deterioration of mental status. And your cousin doesn't like the diagnosis. I wouldn't either. Brain tumors at her age are highly unlikely. And she's not responding to radiation treatment. It's a lesion. First of all, there's nothing on the CAT scan. Second of all, if this is a horse then the kindly family doctor in Trenton makes the obvious diagnosis and it nEver gets near this office. Differential diagnosis, people: if it's not a tumor what are the suspects? Why couldn't she talk?  Get her a contrast MRI. Wernickie's encephalopathy?  No, blood thiamine lEvel was normal. Lab in Trenton could have screwed up the blood test. I assume it's a corollary if people lie, that people screw up. Re-draw the blood tests. And get her scheduled for that contrast MRI ASAP. We inject gadolinium into a vein. It distributes itself throughout your brain and acts as a contrast material for the magneti ...\n"
          ]
        }
      ]
    },
    {
      "cell_type": "code",
      "source": [
        "import re\n",
        "\n",
        "def extract_case_facts(text, symptom_list=None, medical_terms=None):\n",
        "    \"\"\"\n",
        "    Extracts age, gender, symptoms, and medical terms from a raw text block.\n",
        "\n",
        "    Parameters:\n",
        "        text (str): Raw string from transcript\n",
        "        symptom_list (list): List of symptoms to look for\n",
        "        medical_terms (list): List of medical keywords\n",
        "\n",
        "    Returns:\n",
        "        dict: Structured dictionary with extracted info\n",
        "    \"\"\"\n",
        "\n",
        "    if symptom_list is None:\n",
        "        symptom_list = [\"seizure\", \"fever\", \"pain\", \"fatigue\", \"speech\", \"headache\",\n",
        "                        \"rash\", \"nausea\", \"vomit\", \"dizzy\", \"confusion\", \"vision\",\n",
        "                        \"weakness\", \"loss\", \"cough\", \"hallucination\", \"delirium\"]\n",
        "\n",
        "    if medical_terms is None:\n",
        "        medical_terms = [\"tumor\", \"MRI\", \"CT\", \"lesion\", \"biopsy\", \"encephalopathy\",\n",
        "                         \"diagnosis\", \"scan\", \"blood\", \"radiation\", \"treatment\", \"contrast\",\n",
        "                         \"CAT scan\", \"Wernick\", \"thiamine\", \"neurological\", \"platelet\"]\n",
        "\n",
        "    info = {\n",
        "        \"age\": None,\n",
        "        \"gender\": None,\n",
        "        \"symptoms\": set(),\n",
        "        \"medical_terms\": set()\n",
        "    }\n",
        "\n",
        "    age_match = re.search(r\"(\\d{1,2})\\s?(year[-\\s]?old)\", text, flags=re.IGNORECASE)\n",
        "    if age_match:\n",
        "        info[\"age\"] = int(age_match.group(1))\n",
        "\n",
        "    if re.search(r\"\\bfemale\\b\", text, re.IGNORECASE):\n",
        "        info[\"gender\"] = \"female\"\n",
        "    elif re.search(r\"\\bmale\\b\", text, re.IGNORECASE):\n",
        "        info[\"gender\"] = \"male\"\n",
        "\n",
        "    for sym in symptom_list:\n",
        "        if re.search(rf\"\\b{sym}\\w*\\b\", text, re.IGNORECASE):\n",
        "            info[\"symptoms\"].add(sym.lower())\n",
        "\n",
        "    for term in medical_terms:\n",
        "        if re.search(rf\"\\b{term}\\w*\\b\", text, re.IGNORECASE):\n",
        "            info[\"medical_terms\"].add(term.lower())\n",
        "\n",
        "    info[\"symptoms\"] = sorted(info[\"symptoms\"])\n",
        "    info[\"medical_terms\"] = sorted(info[\"medical_terms\"])\n",
        "\n",
        "    return info"
      ],
      "metadata": {
        "id": "tvtwoPvg6-AU"
      },
      "execution_count": null,
      "outputs": []
    },
    {
      "cell_type": "code",
      "source": [],
      "metadata": {
        "id": "5Mww6eg27LvR"
      },
      "execution_count": null,
      "outputs": []
    },
    {
      "cell_type": "code",
      "source": [
        "def suggest_diagnosis(info):\n",
        "    \"\"\"\n",
        "    Suggests diagnosis based on extracted symptoms and medical terms.\n",
        "    \"\"\"\n",
        "\n",
        "    s = set(info[\"symptoms\"])\n",
        "    m = set(info[\"medical_terms\"])\n",
        "\n",
        "    if {\"seizure\", \"loss\", \"fatigue\"}.issubset(s) and \"wernick\" in m:\n",
        "        return \"Wernicke's encephalopathy\"\n",
        "\n",
        "    if {\"seizure\", \"headache\", \"loss\"}.intersection(s) and {\"tumor\", \"lesion\", \"mri\"}.intersection(m):\n",
        "        return \"Brain tumor\"\n",
        "\n",
        "    if {\"cough\", \"fever\", \"fatigue\"}.issubset(s):\n",
        "        return \"Pneumonia\"\n",
        "\n",
        "    if {\"rash\", \"fever\", \"pain\", \"fatigue\"}.issubset(s):\n",
        "        return \"Lupus\"\n",
        "\n",
        "    return \"Unknown – further testing required\""
      ],
      "metadata": {
        "id": "66_TENky7ydH"
      },
      "execution_count": null,
      "outputs": []
    },
    {
      "cell_type": "markdown",
      "source": [
        "Season 1: Diagnosis"
      ],
      "metadata": {
        "id": "48Lv8ROAWx_5"
      }
    },
    {
      "cell_type": "code",
      "source": [
        "raw_note = extract_medical_lines(all_transcripts, season=1, episode=1)\n",
        "info = extract_case_facts(raw_note)\n",
        "info[\"diagnosis\"] = suggest_diagnosis(info)\n",
        "\n",
        "print(info)"
      ],
      "metadata": {
        "colab": {
          "base_uri": "https://localhost:8080/"
        },
        "id": "JmkICoQQ7y9J",
        "outputId": "c92b9afc-1c6f-4383-8624-eff476ed2ea3"
      },
      "execution_count": null,
      "outputs": [
        {
          "output_type": "stream",
          "name": "stdout",
          "text": [
            "{'age': 29, 'gender': 'female', 'symptoms': ['cough', 'fatigue', 'fever', 'headache', 'loss', 'nausea', 'pain', 'seizure'], 'medical_terms': ['biopsy', 'blood', 'cat scan', 'contrast', 'ct', 'diagnosis', 'encephalopathy', 'lesion', 'mri', 'neurological', 'radiation', 'scan', 'thiamine', 'treatment', 'tumor', 'wernick'], 'diagnosis': \"Wernicke's encephalopathy\"}\n"
          ]
        }
      ]
    },
    {
      "cell_type": "markdown",
      "source": [
        "Season 2: we'll see"
      ],
      "metadata": {
        "id": "jL_paMPIW1mE"
      }
    },
    {
      "cell_type": "code",
      "source": [
        "import pandas as pd\n",
        "df = pd.read_csv(\"season2.csv\")"
      ],
      "metadata": {
        "id": "8_C8GspxW2_8"
      },
      "execution_count": null,
      "outputs": []
    },
    {
      "cell_type": "code",
      "source": [
        "import pandas as pd\n",
        "\n",
        "df = pd.read_csv(\"season2.csv\")\n",
        "medical_team = ['House', 'Wilson', 'Foreman', 'Cameron', 'Chase', 'Cuddy']\n",
        "sample_lines = df[df['name'].isin(medical_team)].sample(30, random_state=1)\n",
        "print(sample_lines[['name', 'line']].to_string(index=False))"
      ],
      "metadata": {
        "colab": {
          "base_uri": "https://localhost:8080/"
        },
        "id": "KhJeDDs_YuVF",
        "outputId": "5372e544-5742-42b5-895d-7986d23a1929"
      },
      "execution_count": 12,
      "outputs": [
        {
          "output_type": "stream",
          "name": "stdout",
          "text": [
            "   name                                                                                                                                           line\n",
            "Foreman                                                                                                                                          Here.\n",
            "Cameron                                                                                                                Wolff-Parkinson-White syndrome?\n",
            "  House                                                                                                                         Where's your crucifix?\n",
            "  Cuddy                                                                                                                         House, what are you \"�\n",
            "  House              It means one of your assumptions is wrong, because if something doesn't make sense it can't be real. So what are our assumptions?\n",
            "  House                                                                                                               That's the tick venom ascending.\n",
            "Foreman                                                                      Your son's organs were damaged too sEverely. He passed away this morning.\n",
            "Cameron                                                                                                                                        Really?\n",
            "  House                                                                                                                                  Oh, why else?\n",
            " Wilson  Tuberous Sclerosis in a kid that also has Alveolar Rhabdomyosarcoma. Two different unrelated cancers at the same time is a statistical no no.\n",
            "  Cuddy                                                                                                                If I had been Alfredo's doctor�\n",
            " Wilson                                                                                   He cures thousands of people Every year, you cure, what? 30?\n",
            "  House                                                                           Hey, I can be a jerk to people I haven't slept with. I am that good.\n",
            "Cameron                                                                                                                           To retest for staph.\n",
            "Cameron                                                                                                                          Brothers and sisters?\n",
            "  House       Kinda digging this whole \"Foreman in charge\"� thing. Frees me up to watch my soaps, catch a movie in the afternoon, have lunch with you!\n",
            "Foreman                                                                                                                    I did. Not so sure anymore.\n",
            "  House                                                                    Mommy does Everything for her family these days. Even swallows their pills.\n",
            "  House                                                                                                                   Just not as honest about it.\n",
            "  House                                                                                                          Or genital. [To Chase.] Go find them.\n",
            "  House                                                                                                                             Left foot's clean.\n",
            "Foreman                                                                                                                               How do you feel?\n",
            "Foreman                                                                                                                         Why would that happen?\n",
            "Foreman                                                                                                                             Fungus likes iron.\n",
            "Foreman                                                                                                                                 Use bug spray?\n",
            "  Chase                                                                                                               He's over his limit on morphine.\n",
            "  House                                                                                                              Find me when the results come in.\n",
            "Cameron                                                                                                 We started chelation therapy with dimercaprol.\n",
            "  Chase                                                                                                    When you wake up, you'll feel a lot better.\n",
            " Wilson                                                                                                                                     Of course.\n"
          ]
        }
      ]
    },
    {
      "cell_type": "code",
      "source": [
        "import re\n",
        "\n",
        "def extract_case_info(text):\n",
        "    text = text.lower()\n",
        "\n",
        "    if \"kid\" in text or \"child\" in text:\n",
        "        age = \"child\"\n",
        "    else:\n",
        "        age_match = re.search(r'(\\d{1,3})\\s*(year old|y/o)', text)\n",
        "        age = int(age_match.group(1)) if age_match else None\n",
        "\n",
        "    gender = \"unknown\"\n",
        "\n",
        "    symptom_keywords = ['pain', 'fever', 'cough', 'fatigue', 'headache', 'nausea', 'vomiting', 'rash', 'dizziness', 'seizure', 'loss']\n",
        "    symptoms = [s for s in symptom_keywords if s in text]\n",
        "\n",
        "    medical_terms = ['tumor', 'cancer', 'biopsy', 'treatment', 'lesion', 'syndrome', 'therapy', 'morphine', 'chelation', 'dimercaprol']\n",
        "    found_terms = [term for term in medical_terms if term in text]\n",
        "\n",
        "    diagnosis_candidates = [\n",
        "        \"tuberous sclerosis\", \"alveolar rhabdomyosarcoma\", \"wolff-parkinson-white syndrome\",\n",
        "        \"staph\", \"fungus\", \"syndrome\"\n",
        "    ]\n",
        "    found_diagnosis = [d.title() for d in diagnosis_candidates if d in text]\n",
        "\n",
        "    return {\n",
        "        \"age\": age,\n",
        "        \"gender\": gender,\n",
        "        \"symptoms\": symptoms,\n",
        "        \"medical_terms\": found_terms,\n",
        "        \"diagnosis\": found_diagnosis\n",
        "    }\n",
        "\n",
        "season2_line = \"Tuberous Sclerosis in a kid that also has Alveolar Rhabdomyosarcoma. Two different unrelated cancers at the same time is a statistical no no.\"\n",
        "\n",
        "print(extract_case_info(season2_line))"
      ],
      "metadata": {
        "colab": {
          "base_uri": "https://localhost:8080/"
        },
        "id": "PbwcrnwCY_Ao",
        "outputId": "0b5b9225-c880-478f-e1be-59234f4ce493"
      },
      "execution_count": 13,
      "outputs": [
        {
          "output_type": "stream",
          "name": "stdout",
          "text": [
            "{'age': 'child', 'gender': 'unknown', 'symptoms': [], 'medical_terms': ['cancer'], 'diagnosis': ['Tuberous Sclerosis', 'Alveolar Rhabdomyosarcoma']}\n"
          ]
        }
      ]
    },
    {
      "cell_type": "markdown",
      "source": [
        "Season 2 diagnosis: uberous Sclerosis', 'Alveolar Rhabdomyosarcoma"
      ],
      "metadata": {
        "id": "sh31MqlEZUNT"
      }
    },
    {
      "cell_type": "code",
      "source": [
        "import pandas as pd\n",
        "\n",
        "df = pd.read_csv(\"season3.csv\")\n",
        "medical_team = ['House', 'Wilson', 'Foreman', 'Cameron', 'Chase', 'Cuddy']\n",
        "sample_lines = df[df['name'].isin(medical_team)].sample(30, random_state=1)\n",
        "print(sample_lines[['name', 'line']].to_string(index=False))"
      ],
      "metadata": {
        "colab": {
          "base_uri": "https://localhost:8080/"
        },
        "id": "jXvZgKiceBYt",
        "outputId": "23602c7d-60a1-4463-979d-edb32961c0dc"
      },
      "execution_count": null,
      "outputs": [
        {
          "output_type": "stream",
          "name": "stdout",
          "text": [
            "   name                                                                                                                                                                                                                                                                                                                                      line\n",
            "  House                                                                                                                                     [interrupting] Stop... trying to save me. I'm fine. MRA confirms smalls collections of blood throughout the white matter of Patrick's right hemisphere. Mind if we chat about that for a few moments?\n",
            "  House                                                                                                                                                                                                                                   Ten thousand possible infections. At least twenty minutes per test. Take you approximately eight years.\n",
            "  House                                                                                                                                                                                                                                                                  Oh, come on. This isn't because I was speeding, it's because I'm Latino.\n",
            "  House                                                                                                                                                                                                                                                                                                     Somebody you'll nEver send a gift to.\n",
            "Cameron                                                                                                                                                                                                                                                                                                            I can't do this. [She leaves.]\n",
            "  Cuddy                                                                                                                                                                                                                                                                                     We're doctors: We treat Patients, we don't kill them.\n",
            "  House                                                                                                                                                                                                       It's a joke. Like Cuddy would Ever want a kid. Or a kid would Ever want Cuddy. Hello, that's why it's funny! Why are you guys here?\n",
            "  House                                                                                                                                                                                           (flipping open charts \"� the clinic desk is just above his armpit lEvel.) It's not a clot. You must have blocked the vein with a catheter wire.\n",
            "Cameron                                                                                                                                                                                                                            Emma's already on tocolytics. The combination could put her into pulmonary edema. You'll just kill her faster.\n",
            "  House                                                                                                                                                                                                              No. But you will. Every Patient who comes in here for an STD test has one thing in common. They had SWS. \"Sex While Stupid\".\n",
            "  House                                                                                                                                                                                                                                                          [oh, joy...] Thank God. You're still here. [top of voice again] He's still here!\n",
            "Cameron                                                                                                                                                                                                                                                                      It can't be an infection. He got IVIG, broad-spectrum antibiotics...\n",
            "  Chase                                                                                                                                                                                                                                                                                                               Spiking on leads C3 and O2.\n",
            "  House                                                                                                                                                                                                                                                                                                                  Well, turn up the juice.\n",
            " Wilson                                                                                                                                                                                                                                                                                                             But we can't talk about that.\n",
            "  House                                                                                                                                                                                                                                                                                             You can get into a lot of trouble being here.\n",
            "  House                                                                                                                                                                                                                                                                                                            Nothing. [He takes a vicodin.]\n",
            "  House                                                                                                                                                                                                                                                                                                   Fight with the kid sitting next to you?\n",
            "  House                                                                                                                                                                                                                                                                                               [V.O.] So, let's talk about toxic exposure.\n",
            "Cameron                                                                                                                                                                                                                                                                                              It's 4 o'clock; we have nothing to tell him.\n",
            "Foreman                                                                                                                                                                                                                                                                                                                               5, 6, 7, 8.\n",
            "  House                                                                                                        Infection throwing clots, you're an idiot. [Cuddy throws a smile at Wilson.] Except you're not an idiot, [House looks at Wilson and then Cuddy.] and she's holding a file for a 26-yr-old female, what have you really got for me?\n",
            " Wilson                                                                                                                             Actually he's only in the Navy when they sang, In The Navy. The rest of the time he's just in generic fatigues. [House stares at him.] What? You brought it up! [House starts to walk out.] You didn't flush.\n",
            "  Chase                                                                                                                                                                                                                                                                                                                  Bone windows look clean.\n",
            " Wilson                                                                                                                                                                                                                                                                    I don't think my enabling is anything you should be complaining about.\n",
            "Cameron                                                                                                                                                                                                                                                                   The 2nd and 3rd ones happened here there's no fire, no water, no smoke.\n",
            "Foreman                                                                                                                                                                                                                                                                                     Why can't you accept he wants to protect his brother?\n",
            "Cameron                                                                                                                                                                                                                                                                                                                 So you don't have a home?\n",
            "  Chase                                                                                                                                                                                                                                                                                                                 Positive for Hepatitis A?\n",
            "  Cuddy  [Interrupting] I know. But it wasn't Oxycodone. Dr Wilson informed me that Dr House already tried to steal the pain medication of this Patient. Which made it clear to me that Dr House was in a particularly vulnerable and desperate state. So I went to the pharmacy and I swapped bottles, Dr House only got a bottle with placebos.\n"
          ]
        }
      ]
    },
    {
      "cell_type": "code",
      "source": [
        "import re\n",
        "\n",
        "df = pd.read_csv(\"season3.csv\")\n",
        "medical_team = ['House', 'Wilson', 'Foreman', 'Cameron', 'Chase', 'Cuddy']\n",
        "df = df[df['name'].isin(medical_team)]\n",
        "\n",
        "text_blob = \" \".join(df['line'].dropna().astype(str).tolist())\n",
        "\n",
        "known_diagnoses = [\n",
        "    \"tumor\", \"cancer\", \"lesion\", \"infection\", \"stroke\", \"flu\", \"anemia\", \"diabetes\", \"epilepsy\", \"meningitis\",\n",
        "    \"encephalopathy\", \"Wernicke's encephalopathy\", \"lymphoma\", \"Hodgkin's disease\", \"HIV\", \"AIDS\",\n",
        "    \"Parkinson's\", \"multiple sclerosis\", \"tuberculosis\", \"sarcoidosis\", \"lupus\", \"Alzheimer's\",\n",
        "    \"syphilis\", \"hepatitis\", \"rhabdomyosarcoma\", \"sclerosis\", \"toxoplasmosis\"\n",
        "]\n",
        "\n",
        "def extract_age_gender(text):\n",
        "    match = re.search(r'(\\d{1,3})[-\\s]?(year old|y/o)\\s+(male|female|man|woman|boy|girl)', text.lower())\n",
        "    if match:\n",
        "        age = int(match.group(1))\n",
        "        gender = 'female' if match.group(3) in ['female', 'woman', 'girl'] else 'male'\n",
        "        return age, gender\n",
        "    return None, \"unknown\"\n",
        "\n",
        "def extract_symptoms(text):\n",
        "    symptoms_list = ['cough', 'fever', 'fatigue', 'nausea', 'headache', 'seizure', 'pain', 'rash',\n",
        "                     'vomiting', 'swelling', 'dizziness', 'bleeding', 'loss']\n",
        "    return [s for s in symptoms_list if s in text.lower()]\n",
        "\n",
        "def extract_medical_terms(text):\n",
        "    terms = ['tumor', 'cancer', 'lesion', 'infection', 'biopsy', 'scan', 'mri', 'ct', 'blood', 'treatment',\n",
        "             'thiamine', 'neurological', 'encephalopathy', 'contrast', 'radiation', 'chelation']\n",
        "    return [t for t in terms if t in text.lower()]\n",
        "\n",
        "def extract_diagnosis(text):\n",
        "    candidates = re.findall(\n",
        "        r\"(?:diagnosis\\s+is|he has|she has|they have|diagnosed with|consistent with|indicative of)\\s+([A-Za-z\\s\\-']{4,60})[\\.]\",\n",
        "        text, re.IGNORECASE\n",
        "    )\n",
        "    for cand in candidates:\n",
        "        cand_clean = cand.lower().strip()\n",
        "        for diagnosis in known_diagnoses:\n",
        "            if diagnosis.lower() in cand_clean:\n",
        "                return diagnosis.title()\n",
        "    return \"N/A\"\n",
        "\n",
        "age, gender = extract_age_gender(text_blob)\n",
        "symptoms = extract_symptoms(text_blob)\n",
        "medical_terms = extract_medical_terms(text_blob)\n",
        "diagnosis = extract_diagnosis(text_blob)\n",
        "\n",
        "case = {\n",
        "    \"age\": age,\n",
        "    \"gender\": gender,\n",
        "    \"symptoms\": symptoms,\n",
        "    \"medical_terms\": medical_terms,\n",
        "    \"diagnosis\": diagnosis\n",
        "}\n",
        "\n",
        "print(\"Extracted Case:\")\n",
        "print(case)"
      ],
      "metadata": {
        "colab": {
          "base_uri": "https://localhost:8080/"
        },
        "id": "l6X5drs1i1b3",
        "outputId": "3e3aec6e-ddbd-4e71-84e1-8e83f63b0ef3"
      },
      "execution_count": null,
      "outputs": [
        {
          "output_type": "stream",
          "name": "stdout",
          "text": [
            "Extracted Case:\n",
            "{'age': None, 'gender': 'unknown', 'symptoms': ['cough', 'fever', 'fatigue', 'nausea', 'headache', 'seizure', 'pain', 'rash', 'vomiting', 'swelling', 'dizziness', 'bleeding', 'loss'], 'medical_terms': ['tumor', 'cancer', 'lesion', 'infection', 'biopsy', 'scan', 'mri', 'ct', 'blood', 'treatment', 'neurological', 'encephalopathy', 'contrast', 'radiation', 'chelation'], 'diagnosis': 'Infection'}\n"
          ]
        }
      ]
    },
    {
      "cell_type": "markdown",
      "source": [
        "Season 3 diagnosis: Infection"
      ],
      "metadata": {
        "id": "8bs8k_DMjxhm"
      }
    },
    {
      "cell_type": "code",
      "source": [
        "import pandas as pd\n",
        "\n",
        "df = pd.read_csv(\"season4.csv\")\n",
        "medical_team = ['House', 'Wilson', 'Foreman', 'Cameron', 'Chase', 'Cuddy']\n",
        "sample_lines = df[df['name'].isin(medical_team)].sample(30, random_state=1)\n",
        "print(sample_lines[['name', 'line']].to_string(index=False))"
      ],
      "metadata": {
        "colab": {
          "base_uri": "https://localhost:8080/"
        },
        "id": "--VjLxSDjH3b",
        "outputId": "7122687f-798c-4c1c-dbb3-63de6ceec970"
      },
      "execution_count": null,
      "outputs": [
        {
          "output_type": "stream",
          "name": "stdout",
          "text": [
            "   name                                                                                                                                                                                               line\n",
            "Foreman                                                                                                                                                                          You doubted your Patient.\n",
            "  House                                                                                                                                      You really want to lose this argument in front of the camera?\n",
            "  House                                                                                                          Dizzying array of symptoms. Any of which could be caused by drugs, trauma, being a loser.\n",
            "  House                                                                       You think it's fair that I fired all the other members of your team when you guys actually came up with the right diagnosis?\n",
            "  Cuddy                                                                                                                                                                                 Internal bleeding.\n",
            "Foreman                                                                                                                                                                                     Why would you!\n",
            "  House                                                                                                                                                            Too compliCated... Unless he's thirsty.\n",
            "  House                                                                                                                                                                          [seriously] They both do.\n",
            "  House                                                                                                                                                Briefly. You ordering the wine before she got here!\n",
            "  House                                                                                                 Well, you could. But I'd nEver forgive myself if we found something before we got to your breasts.\n",
            "  House                                                                                                                                                                                         Overslept.\n",
            "  House                                                                                      No it's fine. I made sure we got the South Pole long distance plan. Your latest kidney function test shows...\n",
            " Wilson                                                                                                                                      I am flattered you would consider me this bold and brilliant.\n",
            "  House                                                                         [Pulls out rubber gloves one at a time from a box and throws them on the ground.] How much is 13 grand divided by 4 cents?\n",
            "Foreman                                                                                       I didn't feel like waiting until your genitals cleared up. You need to formalise my authority over the team.\n",
            "  House                                          Absolutely. I'm gonna let him get as far away as possible before you call the cops. Guy's a nut job. [to the fellows] Who the hell did I leave in charge?\n",
            "  House                                                                                      But it doesn't make sense to include the symptom that he caused in a differential he's so desperate to solve.\n",
            "  Cuddy                                                                                               [throwing Everything in a covered trash can] The accreditation board will light us on fire for this.\n",
            "  Cuddy  You have an obsession with an actor or the character he plays. I feel for you. You need to work it out. But I need you to do it when the hospital's accreditation and my job are not on the line.\n",
            " Wilson                                                                                                                                                                                     Give him back.\n",
            "Cameron                                                                                                                                   Because it's none of their business. It's none of your business.\n",
            "Foreman                                                                                                                                               So it's relapsing and remitting. Maybe... porphyria.\n",
            "  House                                                                                                                                                                         Need a crash cart in here!\n",
            "  House                                        [Yells out.] Still wiping! [To Kutner.] Put the phone up to bus driver's grill. [Kutner does as he's told and House listens to the bus driver's breathing.]\n",
            "  House                                                                                                     You're not in my apartment. You're three quarters of a world away. I promise not to get fresh.\n",
            " Wilson                                                                                                                                                                        [innocently] What happened?\n",
            "  House                                                                                                                                                   [Sticks something into Greta.] Deflate the lung.\n",
            "Foreman                                                                                                 When House finds out! We'll have the test results. And we'll either do his procedure, or we won't.\n",
            "  House                                                                                                                                                                                       Interesting.\n",
            "  Cuddy                                                                                                                                                No. I'm replacing his Vicodin stash with laxatives.\n"
          ]
        }
      ]
    },
    {
      "cell_type": "code",
      "source": [
        "import pandas as pd\n",
        "import re\n",
        "\n",
        "df = pd.read_csv(\"season4.csv\")\n",
        "\n",
        "medical_team = ['House', 'Wilson', 'Foreman', 'Cameron', 'Chase', 'Cuddy']\n",
        "df = df[df['name'].isin(medical_team)]\n",
        "\n",
        "text_blob = \" \".join(df['line'].dropna().astype(str).tolist())\n",
        "\n",
        "known_diagnoses = [\n",
        "    \"tumor\", \"cancer\", \"lesion\", \"infection\", \"stroke\", \"flu\", \"anemia\", \"diabetes\", \"epilepsy\",\n",
        "    \"meningitis\", \"encephalopathy\", \"Wernicke's encephalopathy\", \"lymphoma\", \"Hodgkin's disease\",\n",
        "    \"HIV\", \"AIDS\", \"Parkinson's\", \"multiple sclerosis\", \"tuberculosis\", \"sarcoidosis\", \"lupus\",\n",
        "    \"Alzheimer's\", \"syphilis\", \"hepatitis\", \"rhabdomyosarcoma\", \"sclerosis\", \"toxoplasmosis\", \"porphyria\"\n",
        "]\n",
        "\n",
        "def extract_age_gender(text):\n",
        "    match = re.search(r'(\\d{1,3})[-\\s]?(year old|y/o)\\s+(male|female|man|woman|boy|girl)', text.lower())\n",
        "    if match:\n",
        "        age = int(match.group(1))\n",
        "        gender = 'female' if match.group(3) in ['female', 'woman', 'girl'] else 'male'\n",
        "        return age, gender\n",
        "    return None, \"unknown\"\n",
        "\n",
        "def extract_symptoms(text):\n",
        "    symptoms_list = ['cough', 'fever', 'fatigue', 'nausea', 'headache', 'seizure', 'pain', 'rash',\n",
        "                     'vomiting', 'swelling', 'dizziness', 'bleeding', 'loss']\n",
        "    return [s for s in symptoms_list if s in text.lower()]\n",
        "\n",
        "def extract_medical_terms(text):\n",
        "    terms = ['tumor', 'cancer', 'lesion', 'infection', 'biopsy', 'scan', 'mri', 'ct', 'blood', 'treatment',\n",
        "             'thiamine', 'neurological', 'encephalopathy', 'contrast', 'radiation', 'chelation']\n",
        "    return [t for t in terms if t in text.lower()]\n",
        "\n",
        "def extract_diagnosis(text):\n",
        "    patterns = [\n",
        "        r\"(?:diagnosis\\s+is|he has|she has|they have|diagnosed with|consistent with|indicative of|maybe)\\s+([A-Za-z\\s\\-']{4,60})[\\.]\",\n",
        "    ]\n",
        "    for pattern in patterns:\n",
        "        candidates = re.findall(pattern, text, re.IGNORECASE)\n",
        "        for cand in candidates:\n",
        "            cleaned = cand.strip().lower()\n",
        "            for known in known_diagnoses:\n",
        "                if known.lower() in cleaned:\n",
        "                    return known.title()\n",
        "    return \"N/A\"\n",
        "\n",
        "age, gender = extract_age_gender(text_blob)\n",
        "symptoms = extract_symptoms(text_blob)\n",
        "medical_terms = extract_medical_terms(text_blob)\n",
        "diagnosis = extract_diagnosis(text_blob)\n",
        "\n",
        "case = {\n",
        "    \"age\": age,\n",
        "    \"gender\": gender,\n",
        "    \"symptoms\": symptoms,\n",
        "    \"medical_terms\": medical_terms,\n",
        "    \"diagnosis\": diagnosis\n",
        "}\n",
        "\n",
        "print(\"Extracted Case:\")\n",
        "print(case)"
      ],
      "metadata": {
        "colab": {
          "base_uri": "https://localhost:8080/"
        },
        "id": "Z3ZxnLuxj3Ak",
        "outputId": "81b018f5-228b-48b3-f190-3aece405bf54"
      },
      "execution_count": null,
      "outputs": [
        {
          "output_type": "stream",
          "name": "stdout",
          "text": [
            "Extracted Case:\n",
            "{'age': 30, 'gender': 'female', 'symptoms': ['cough', 'fever', 'fatigue', 'nausea', 'headache', 'seizure', 'pain', 'rash', 'vomiting', 'swelling', 'bleeding', 'loss'], 'medical_terms': ['tumor', 'cancer', 'lesion', 'infection', 'biopsy', 'scan', 'mri', 'ct', 'blood', 'treatment', 'neurological', 'contrast', 'radiation', 'chelation'], 'diagnosis': 'Sarcoidosis'}\n"
          ]
        }
      ]
    },
    {
      "cell_type": "markdown",
      "source": [
        "Season 4: Sarcodiosis"
      ],
      "metadata": {
        "id": "kDDwFP8kxS4q"
      }
    },
    {
      "cell_type": "code",
      "source": [
        "import pandas as pd\n",
        "\n",
        "df = pd.read_csv(\"season5.csv\")\n",
        "medical_team = ['House', 'Wilson', 'Foreman', 'Cameron', 'Chase', 'Cuddy']\n",
        "sample_lines = df[df['name'].isin(medical_team)].sample(30, random_state=1)\n",
        "print(sample_lines[['name', 'line']].to_string(index=False))"
      ],
      "metadata": {
        "colab": {
          "base_uri": "https://localhost:8080/"
        },
        "id": "-WQDHYfkkhTk",
        "outputId": "2279bcd6-da00-44c4-fbee-de590c9a2c50"
      },
      "execution_count": null,
      "outputs": [
        {
          "output_type": "stream",
          "name": "stdout",
          "text": [
            "   name                                                                                                                                                                                line\n",
            "Foreman                                                                      We could try high-dose dopamine. It's a vasoconstrictor. It'll close the blood vessels so she won't bleed out.\n",
            "  Cuddy                                                                           Or he's just in a good mood, this is not a crisis. Maybe you can get back some of that money he owes you?\n",
            "  House                                                                                                                                                      Seriously? You're walking out?\n",
            "  Chase                                                                                                                                                        And Kutner wasn't my friend.\n",
            "  House                                                                                                                                                     Well done. I have one. Had one.\n",
            "  House                                                                                                                 [House focuses on the target with his cane.] Pretty. Who hired you?\n",
            "  Chase                                                                                                                                                        Then maybe it's the brother.\n",
            "  House                                                                                                                     Ammonia breath. [He opens Scott's gown.] Your liver is failing.\n",
            "  House                                                                                                                                   Those are the breaks. (He walks over to his desk)\n",
            "  House                                                                                                                                                 You lead with the irrelevant types?\n",
            "Foreman                                                                                                                                                        They're sick. They're tired.\n",
            "  Cuddy                                                                                                                                     It's really not the greatest time for gloating.\n",
            " Wilson  See, that's an example from the bad Category. Is it resentment? The stork brought home a new baby, and you don't want to share mommy? Or you just can't stand to see others happy?\n",
            "  House                                                                                                                                                                What's he doing now?\n",
            "  Cuddy                                                                                                                                                                             Status.\n",
            "Cameron                                                                                          I assume Foreman needs us, and he's worried that if we're sniping, we might be distracted.\n",
            "Foreman                                                                       We disagree, you blame our relationship. We agree, you blame our relationship. Don't you see a pRoblem there?\n",
            "  House                                                                             Not mad enough. You wanted your son to hear. You just didn't have the guts to make him get the implant.\n",
            "Foreman                                                                                                                                                                     Why would you �\n",
            "Cameron                                                 Sounds like you don't work for House. A diagnosis that provides neither an explanation nor a cure is by definition not a diagnosis.\n",
            "  House                                                                                                                                                                    He'll be asleep.\n",
            "  Chase                                                                                                                                                                                Huh.\n",
            "  Cuddy                                                                                                                                        It's not a big deal. I was having a bad day.\n",
            "Foreman                                                                                                                                                                  Not like this one.\n",
            "Foreman                                       No apnea because no sleeping pRoblems when she's sleeping. She spent the last six months caring for her husband who's dying of heart failure.\n",
            "  House                                                                                                                                      (to Taub) Hey, Cyrano de Berkowitz. Let it go.\n",
            "  House                                                           Your single omelet theory conveniently overlooks the grassy knoll you had for lunch today. Vegetable and grain gag-athon.\n",
            "  House                         And it'd be interesting to know which of those interactions was causing the pRoblem. Unfortunately, we don't have to. We just have to stop the interacting.\n",
            "  House                                                                                I expect the people who work for me to rise to a challenge. Unless they don't expect to work for me.\n",
            "  House                                                                                                                                                    Today was a fluke. I nodded off.\n"
          ]
        }
      ]
    },
    {
      "cell_type": "code",
      "source": [
        "import re\n",
        "\n",
        "df = pd.read_csv(\"season5.csv\")\n",
        "\n",
        "medical_team = ['House', 'Wilson', 'Foreman', 'Cameron', 'Chase', 'Cuddy']\n",
        "\n",
        "medical_lines = df[df['name'].isin(medical_team)]\n",
        "\n",
        "sample = medical_lines.sample(30, random_state=1)\n",
        "text = \" \".join(sample['line'].astype(str))\n",
        "\n",
        "\n",
        "def extract_age(text):\n",
        "    match = re.search(r'(\\d{1,3})\\s*(year[- ]old|yo)', text.lower())\n",
        "    return int(match.group(1)) if match else None\n",
        "\n",
        "def extract_gender(text):\n",
        "    text = text.lower()\n",
        "    if 'female' in text or 'woman' in text or 'girl' in text:\n",
        "        return 'woman'\n",
        "    elif 'male' in text or 'man' in text or 'boy' in text:\n",
        "        return 'man'\n",
        "    return 'unknown'\n",
        "\n",
        "def extract_symptoms(text):\n",
        "    symptoms = ['cough', 'fever', 'fatigue', 'nausea', 'headache', 'seizure', 'pain',\n",
        "                'rash', 'vomiting', 'swelling', 'dizziness', 'bleeding', 'loss']\n",
        "    return [symptom for symptom in symptoms if symptom in text.lower()]\n",
        "\n",
        "def extract_medical_terms(text):\n",
        "    medical_terms = ['biopsy', 'blood', 'cancer', 'cat scan', 'contrast', 'ct', 'diagnosis',\n",
        "                     'encephalopathy', 'lesion', 'mri', 'neurological', 'radiation', 'scan',\n",
        "                     'thiamine', 'treatment', 'tumor', 'chelation']\n",
        "    return [term for term in medical_terms if term in text.lower()]\n",
        "\n",
        "def extract_diagnosis(text):\n",
        "\n",
        "    patterns = [\n",
        "        r\"diagnosis\\s+(?:is|was|of)\\s+([A-Za-z\\s\\-']+)[\\.,]\",\n",
        "        r\"(?:he|she|they)\\s+(?:has|have|had|developed)\\s+([A-Za-z\\s\\-']+)[\\.,]\",\n",
        "        r\"(?:it's|it is)\\s+([A-Za-z\\s\\-']+)[\\.,]\",\n",
        "        r\"(?:likely|possibly|indicative of)\\s+([A-Za-z\\s\\-']+)[\\.,]\",\n",
        "        r\"([A-Z][a-z]+)\\s+failure\"\n",
        "    ]\n",
        "\n",
        "    for pattern in patterns:\n",
        "        match = re.search(pattern, text, re.IGNORECASE)\n",
        "        if match:\n",
        "            diagnosis = match.group(1).strip()\n",
        "            if len(diagnosis.split()) <= 6 and not any(bad in diagnosis.lower() for bad in ['yes', 'no', 'maybe', 'uh', 'hmm', 'latter']):\n",
        "                return diagnosis.capitalize()\n",
        "    return None\n",
        "\n",
        "case = {\n",
        "    'age': extract_age(text),\n",
        "    'gender': extract_gender(text),\n",
        "    'symptoms': extract_symptoms(text),\n",
        "    'medical_terms': extract_medical_terms(text),\n",
        "    'diagnosis': extract_diagnosis(text)\n",
        "}\n",
        "\n",
        "print(\"Extracted Case:\")\n",
        "print(case)"
      ],
      "metadata": {
        "colab": {
          "base_uri": "https://localhost:8080/"
        },
        "id": "MmAmdsK7p5X3",
        "outputId": "804f0d8f-cb58-4cf3-deb6-a3c3e5171403"
      },
      "execution_count": null,
      "outputs": [
        {
          "output_type": "stream",
          "name": "stdout",
          "text": [
            "Extracted Case:\n",
            "{'age': None, 'gender': 'man', 'symptoms': [], 'medical_terms': ['blood', 'ct', 'diagnosis'], 'diagnosis': 'A vasoconstrictor'}\n"
          ]
        }
      ]
    },
    {
      "cell_type": "markdown",
      "source": [
        "Season 5: Vasoconstrictor"
      ],
      "metadata": {
        "id": "ZYIV0y4UxafK"
      }
    },
    {
      "cell_type": "code",
      "source": [
        "import pandas as pd\n",
        "\n",
        "df = pd.read_csv(\"season6.csv\")\n",
        "medical_team = ['House', 'Wilson', 'Foreman', 'Cameron', 'Chase', 'Cuddy']\n",
        "sample_lines = df[df['name'].isin(medical_team)].sample(30, random_state=1)\n",
        "print(sample_lines[['name', 'line']].to_string(index=False))"
      ],
      "metadata": {
        "colab": {
          "base_uri": "https://localhost:8080/"
        },
        "id": "sP7M9mgzqV2T",
        "outputId": "711f4451-1e5d-4403-d696-9f92904a2caf"
      },
      "execution_count": null,
      "outputs": [
        {
          "output_type": "stream",
          "name": "stdout",
          "text": [
            "   name                                                                                                                                                                                                                                                                                                                      line\n",
            "Foreman                                                                                                                                                                                                                                                  He's still in the ER House. We haven't had time to start a differential.\n",
            "  House                                                                                                                                                                                                                              I don't want it to end well. You should come as my date. You're not gonna want to miss this.\n",
            "  House                                                                                                                                                                                                                                                                     You sold my table to pay for paint that I don't want?\n",
            "  House                                                                                                                                                                                                                                                                                    Would you beliEve me if I said \"yes\"�?\n",
            "Foreman                                                                                                                                                                                                                                                   If she's right... we save two people. [He nods to Cameron, who leaves.]\n",
            "  House                                                                                                                                                                                                                                              It's still cancer. You know how I know? He's got an oncologist for a doctor.\n",
            "Cameron                                                                                                                                                                                                                                                                                                             I didn't say!\n",
            "Foreman                                                                                                                                                                                                                                                We need to start him on antifungal meds before he drowns in his own blood.\n",
            "Cameron                                                                                                                                                                                                                                                                                                     (to Jordan) You okay?\n",
            "  Chase                                                                                                                                                       Yes, and if you brought that up, it'd certainly make for a lively Debate about the morality of murdering murderers. But since you burned the only evidence of that.\n",
            " Wilson                                                                                                                                                                                        But you won't because you'll be too busy writing him a letter of apology and dropping it at his door without knocking at his door.\n",
            "  Cuddy                                                                                                                                                                                                                                                                           We're already treating with sodium bicarbonate.\n",
            "  House                                                                                                                                                                                                                                                  Either we find a bigger treadmill... or... [grabs his jacket and leaves]\n",
            " Wilson                                                                                                                                                                                                                                                                                       I still feel good about what I did.\n",
            "  House                                                                                                                                                                                  That I have a case, yeah. You're authorizing the discharge right now. (He turns to leave) That was a metaphor. (House leaves her office)\n",
            "  House                                                                                                                                                                                                                                                   A sucker and a target. So we gotta look out for him. Do you smell that?\n",
            "  Chase                                                                                                                                                                                                                                                                And talking about it obviously made things so much better.\n",
            "Foreman                                                                                                                                       Since I'm guessing you don't take their word for it. All right, I'm gonna need you to lie on your side and put your knees to your chest. Any history of alcohol or substance abuse?\n",
            "  House                                                                                                                                                      (leaning in close) I think you're still seeing the physio. (Taub turns back to House) You've got a backup suit in your car. Don't want to be bringing home da stank.\n",
            "  Chase                                                                                                                                                                                                                                                                                                CK lEvels point to rhabdo.\n",
            "  House                                                                                                                                                                                                                                           It was a rhetorical question. I don't really care. Go test him for all of them.\n",
            "  Cuddy                                                                                                                                                                                                                                               I... I thought they were the ones bluffing. No way they'd let us terminate.\n",
            "  Cuddy                                                                                                                                                                                                                                                                                               You love power and puzzles.\n",
            "  House                                                                                                                                                                                                                                            (into the phone) Not quite. You did a spinal tap, but the headaches got worse.\n",
            " Wilson                                                                                                                                                                                                                                                                                        Why would he fake being a veteran?\n",
            "Foreman                                                                                                                                                                                                                                                                                Not gonna get the truth out of her either.\n",
            " Wilson  It is a little crazy, though. I mean... isn't it? I mean... things seem to be going great. But they seemed to be going great 12 years ago. The good things are still good. She's still smart, funny, gets me. And she's less competitive. Either she's changed, or I've changed. But, either way... Am I out of my mind?\n",
            "Foreman                                                                                                                                                                                                                                                                                                                   Tattoo.\n",
            "  House                                                                                                                                                                                                      Uh, it's not important right now. What is, is why you didn't want me to meet her in the first place. Is she married?\n",
            "  House                                                                                                                                                                                                                                                                                  Glad we had this little moment. Come on.\n"
          ]
        }
      ]
    },
    {
      "cell_type": "code",
      "source": [
        "import pandas as pd\n",
        "import re\n",
        "\n",
        "df = pd.read_csv(\"season6.csv\")\n",
        "medical_team = ['House', 'Wilson', 'Foreman', 'Cameron', 'Chase', 'Cuddy']\n",
        "df = df[df['name'].isin(medical_team)]\n",
        "\n",
        "text_blob = \" \".join(df['line'].dropna().astype(str).tolist())\n",
        "\n",
        "known_diagnoses = [\n",
        "    \"tumor\", \"cancer\", \"lesion\", \"infection\", \"stroke\", \"flu\", \"anemia\", \"diabetes\", \"epilepsy\",\n",
        "    \"meningitis\", \"encephalopathy\", \"lymphoma\", \"hodgkin's disease\", \"hiv\", \"aids\",\n",
        "    \"parkinson's\", \"multiple sclerosis\", \"tuberculosis\", \"sarcoidosis\", \"lupus\", \"alzheimer's\",\n",
        "    \"syphilis\", \"hepatitis\", \"rhabdomyosarcoma\", \"sclerosis\", \"toxoplasmosis\", \"sepsis\",\n",
        "    \"pneumonia\", \"appendicitis\", \"pancreatitis\", \"vasculitis\", \"rhabdomyolysis\", \"rhabdo\",\n",
        "    \"myocarditis\", \"pericarditis\", \"encephalitis\", \"kidney failure\", \"renal failure\",\n",
        "    \"liver failure\", \"hepatic failure\", \"heart failure\", \"thrombosis\"\n",
        "]\n",
        "\n",
        "def extract_age_gender(text):\n",
        "    match = re.search(r'(\\d{1,3})[-\\s]?(year old|y/o)\\s+(male|female|man|woman|boy|girl)', text.lower())\n",
        "    if match:\n",
        "        age = int(match.group(1))\n",
        "        gender = 'female' if match.group(3) in ['female', 'woman', 'girl'] else 'male'\n",
        "        return age, gender\n",
        "    return None, \"unknown\"\n",
        "\n",
        "def extract_symptoms(text):\n",
        "    symptoms_list = [\n",
        "        'cough', 'fever', 'fatigue', 'nausea', 'headache', 'seizure', 'pain', 'rash',\n",
        "        'vomiting', 'swelling', 'dizziness', 'bleeding', 'loss', 'diarrhea',\n",
        "        'confusion', 'weakness', 'chest pain', 'abdominal pain', 'shortness of breath'\n",
        "    ]\n",
        "    return [s for s in symptoms_list if s in text.lower()]\n",
        "\n",
        "def extract_medical_terms(text):\n",
        "    terms = [\n",
        "        'tumor', 'cancer', 'lesion', 'infection', 'biopsy', 'scan', 'mri', 'ct', 'x-ray',\n",
        "        'blood', 'treatment', 'neurological', 'encephalopathy', 'contrast', 'radiation',\n",
        "        'chelation', 'renal', 'hepatic', 'pulmonary', 'cardiac', 'sepsis', 'embolus',\n",
        "        'thrombosis', 'autoimmune', 'liver', 'kidney', 'pneumonia', 'stroke', 'rhabdo'\n",
        "    ]\n",
        "    return [t for t in terms if t in text.lower()]\n",
        "\n",
        "def extract_diagnosis(text):\n",
        "    candidates = re.findall(\n",
        "        r\"(?:diagnosis\\s+is|he has|she has|they have|diagnosed with|consistent with|indicative of|you have|it's|it is)\\s+([A-Za-z\\s\\-']{4,60})[\\.]\",\n",
        "        text, re.IGNORECASE\n",
        "    )\n",
        "    for cand in candidates:\n",
        "        cand_clean = cand.lower().strip()\n",
        "        for diagnosis in known_diagnoses:\n",
        "            if diagnosis.lower() in cand_clean:\n",
        "                return diagnosis.title()\n",
        "    return \"N/A\"\n",
        "\n",
        "age, gender = extract_age_gender(text_blob)\n",
        "symptoms = extract_symptoms(text_blob)\n",
        "medical_terms = extract_medical_terms(text_blob)\n",
        "diagnosis = extract_diagnosis(text_blob)\n",
        "\n",
        "case = {\n",
        "    \"age\": age,\n",
        "    \"gender\": gender,\n",
        "    \"symptoms\": symptoms,\n",
        "    \"medical_terms\": medical_terms,\n",
        "    \"diagnosis\": diagnosis\n",
        "}\n",
        "\n",
        "print(\"Extracted Case (Season 6):\")\n",
        "print(case)"
      ],
      "metadata": {
        "colab": {
          "base_uri": "https://localhost:8080/"
        },
        "id": "iC_nteZamM8h",
        "outputId": "3f645774-1dbf-4b14-f343-2fad149fdc6e"
      },
      "execution_count": 9,
      "outputs": [
        {
          "output_type": "stream",
          "name": "stdout",
          "text": [
            "Extracted Case (Season 6):\n",
            "{'age': 27, 'gender': 'female', 'symptoms': ['cough', 'fever', 'fatigue', 'nausea', 'headache', 'seizure', 'pain', 'rash', 'vomiting', 'swelling', 'dizziness', 'bleeding', 'loss', 'diarrhea', 'confusion', 'weakness', 'chest pain', 'abdominal pain', 'shortness of breath'], 'medical_terms': ['tumor', 'cancer', 'lesion', 'infection', 'biopsy', 'scan', 'mri', 'ct', 'x-ray', 'blood', 'treatment', 'neurological', 'contrast', 'radiation', 'chelation', 'renal', 'hepatic', 'pulmonary', 'cardiac', 'sepsis', 'thrombosis', 'autoimmune', 'liver', 'kidney', 'pneumonia', 'stroke', 'rhabdo'], 'diagnosis': 'Cancer'}\n"
          ]
        }
      ]
    },
    {
      "cell_type": "markdown",
      "source": [
        "Season 6 Diagnosis: Cancer"
      ],
      "metadata": {
        "id": "Vh2WxorMm-HT"
      }
    },
    {
      "cell_type": "code",
      "source": [
        "import pandas as pd\n",
        "\n",
        "df = pd.read_csv(\"season7.csv\")\n",
        "medical_team = ['House', 'Wilson', 'Foreman', 'Cameron', 'Chase', 'Cuddy']\n",
        "sample_lines = df[df['name'].isin(medical_team)].sample(30, random_state=1)\n",
        "print(sample_lines[['name', 'line']].to_string(index=False))"
      ],
      "metadata": {
        "colab": {
          "base_uri": "https://localhost:8080/"
        },
        "id": "Ckp0PX0fnC4Z",
        "outputId": "953ac92b-dbbe-4120-f8a2-5f314fbf5135"
      },
      "execution_count": 6,
      "outputs": [
        {
          "output_type": "stream",
          "name": "stdout",
          "text": [
            "   name                                                                                                                                                                                                                                                        line\n",
            "Foreman                                                                                                                                                                                                            That's not from the pipes. It's from your mouth.\n",
            "  House                                                                       [cringes at the smell] Pfft! [Rachel laughs. House puts a small light in his mouth and begins examining the contents of Rachel's diaper. Cuddy wanders in, still looking half-awake.]\n",
            "  House                                                                                                                                                                                                             (putting the animals back) I can't be roMantic?\n",
            "  Chase                                                                                                                                                         Plus her lung's fried. She needs a donor lung to live, which is the only treatment for LAM, anyway.\n",
            "  House                                                                                                                                                                Consider the forms incentive. Taub doesn't pass, he'll become a perManent part of your life.\n",
            "  Chase                                                                                                                                                                                                        I know. It's an involuntary movement called choreia.\n",
            "  House                                                                                                                                                                                                                                             I have no idea.\n",
            "  Cuddy                                                                                                                                                                                                                                                  Next week.\n",
            "  House                                                                                                                                                                                                                 Like the Lindbergh baby. You dating anyone?\n",
            "  Chase                                                                                                                                                                                                  You got a better answer than she does, then let's hear it.\n",
            "Foreman                                                                                                                                                                                  (reading a prescription bottle label) What are the eight types of vomitus?\n",
            "  House  Memory was just a symptom of a symptom of a larger disease. You have McLeod syndrome. It's a rare genetic disorder that affects the nervous system, the blood. And can cause! (He reaches for her cup again, but she stops him before he can move it) OCD.\n",
            "  House                                                                                                                                                                                                                       Run a stress test to confirm long QT.\n",
            "  House                                                                                                                                                                                                             Cystoscopy was clean. Cytopathology was normal.\n",
            "Foreman                                                                                                                                                                                                                      Stop. This isn't about Chase's mother.\n",
            "Foreman                                                                                                                                                                                              Patient's file said she lost some weight on a new diet, right?\n",
            "  House                                                                                                                                       Thirteen, why don't you take Masters to do the blood draws. You can remind her about all the perks of working for me.\n",
            "  House                                                                                                                                                                                                                                         Will you get cable?\n",
            "  House                                                                                                                                                                                         You lied to make yourself older? Are you lying about being a Woman?\n",
            " Wilson                                                                                                                                                                                                                Oh, yeah, things are definitely going great.\n",
            "  House                                                                                                                                                                                                                   Your friends are not praying hard enough.\n",
            "  Chase                                                                                                                                                                                                   Sounds like the perfect place to hit on vulnerable women.\n",
            " Wilson                                                                                                                                                                                      Physically, yes. Emotionally, it was a long night. Next week: Ferrets?\n",
            "  House                                                                                                                                                            [puts down the journal] Guess who doesn't have cancer? Me. Also you. Actually, you for sure. Me!\n",
            "  House                                                                                                                                                                          How sweet. I'm not worried. I just wanna get the results so she can stop worrying.\n",
            "  House                                                       You really want me to stop and explain? [He snaps on a glove, unsheathes a scalpel and makes an incision in Arlene's hip. Arlene, who is still out of it, moans slightly.] There it is. Look at that.\n",
            "Foreman                                                                                                                                                                                                                                       Stay out of that too.\n",
            "  Cuddy                                                                                                                                         And yet you chose medicine. Which is a team activity. It's pretty gutsy, stepping so far outside your comfort zone.\n",
            "  Cuddy                                                                                                                                                                                                                 (stopping in front of her office door) 4-3.\n",
            " Wilson                                                                                                                                                                                          [nervously] If Rachel wakes up, she's gonna tell Cuddy Everything.\n"
          ]
        }
      ]
    },
    {
      "cell_type": "code",
      "source": [
        "import pandas as pd\n",
        "import re\n",
        "\n",
        "df = pd.read_csv(\"season7.csv\")\n",
        "medical_team = ['House', 'Wilson', 'Foreman', 'Cameron', 'Chase', 'Cuddy']\n",
        "df = df[df['name'].isin(medical_team)]\n",
        "\n",
        "text_blob = \" \".join(df['line'].dropna().astype(str).tolist())\n",
        "\n",
        "known_diagnoses = [\n",
        "    \"tumor\", \"cancer\", \"lesion\", \"infection\", \"stroke\", \"flu\", \"anemia\", \"diabetes\", \"epilepsy\", \"meningitis\",\n",
        "    \"encephalopathy\", \"Wernicke's encephalopathy\", \"lymphoma\", \"Hodgkin's disease\", \"HIV\", \"AIDS\",\n",
        "    \"Parkinson's\", \"multiple sclerosis\", \"tuberculosis\", \"sarcoidosis\", \"lupus\", \"Alzheimer's\",\n",
        "    \"syphilis\", \"hepatitis\", \"rhabdomyosarcoma\", \"sclerosis\", \"toxoplasmosis\",\n",
        "    \"wolff-parkinson-white syndrome\", \"long qt syndrome\", \"lam\", \"mcleod syndrome\"\n",
        "]\n",
        "\n",
        "def extract_age_gender(text):\n",
        "    match = re.search(r'(\\d{1,3})[-\\s]?(year old|y/o)\\s+(male|female|man|woman|boy|girl)', text.lower())\n",
        "    if match:\n",
        "        age = int(match.group(1))\n",
        "        gender = 'female' if match.group(3) in ['female', 'woman', 'girl'] else 'male'\n",
        "        return age, gender\n",
        "    return None, \"unknown\"\n",
        "\n",
        "def extract_symptoms(text):\n",
        "    symptoms_list = [\n",
        "        'cough', 'fever', 'fatigue', 'nausea', 'headache', 'seizure', 'pain', 'rash',\n",
        "        'vomiting', 'swelling', 'dizziness', 'bleeding', 'loss', 'diarrhea', 'confusion',\n",
        "        'abdominal pain', 'weakness', 'chest pain', 'shortness of breath'\n",
        "    ]\n",
        "    return [s for s in symptoms_list if s in text.lower()]\n",
        "\n",
        "def extract_medical_terms(text):\n",
        "    terms = [\n",
        "        'tumor', 'cancer', 'lesion', 'infection', 'biopsy', 'scan', 'mri', 'ct', 'blood',\n",
        "        'treatment', 'thiamine', 'neurological', 'encephalopathy', 'contrast', 'radiation',\n",
        "        'chelation', 'renal', 'hepatic', 'pulmonary', 'cardiac', 'rhabdo', 'lam', 'long qt',\n",
        "        'mcleod syndrome'\n",
        "    ]\n",
        "    return [t for t in terms if t in text.lower()]\n",
        "\n",
        "def extract_diagnosis(text):\n",
        "    candidates = re.findall(\n",
        "        r\"(?:diagnosis\\s+is|he has|she has|they have|diagnosed with|consistent with|indicative of|you have)\\s+([A-Za-z\\s\\-']{4,60})[\\.]\",\n",
        "        text, re.IGNORECASE\n",
        "    )\n",
        "    for cand in candidates:\n",
        "        cand_clean = cand.lower().strip()\n",
        "        for diagnosis in known_diagnoses:\n",
        "            if diagnosis.lower() in cand_clean:\n",
        "                return diagnosis.title()\n",
        "    return \"N/A\"\n",
        "\n",
        "age, gender = extract_age_gender(text_blob)\n",
        "symptoms = extract_symptoms(text_blob)\n",
        "medical_terms = extract_medical_terms(text_blob)\n",
        "diagnosis = extract_diagnosis(text_blob)\n",
        "\n",
        "case = {\n",
        "    \"age\": age,\n",
        "    \"gender\": gender,\n",
        "    \"symptoms\": symptoms,\n",
        "    \"medical_terms\": medical_terms,\n",
        "    \"diagnosis\": diagnosis\n",
        "}\n",
        "\n",
        "print(\"Extracted Case (Season 7):\")\n",
        "print(case)"
      ],
      "metadata": {
        "colab": {
          "base_uri": "https://localhost:8080/"
        },
        "id": "_O-cW8OKnfaK",
        "outputId": "0de46611-a838-4b81-f1d0-45e2bd3c0461"
      },
      "execution_count": 8,
      "outputs": [
        {
          "output_type": "stream",
          "name": "stdout",
          "text": [
            "Extracted Case (Season 7):\n",
            "{'age': None, 'gender': 'unknown', 'symptoms': ['cough', 'fever', 'nausea', 'headache', 'seizure', 'pain', 'rash', 'vomiting', 'swelling', 'dizziness', 'bleeding', 'loss', 'diarrhea', 'confusion', 'abdominal pain'], 'medical_terms': ['tumor', 'cancer', 'lesion', 'infection', 'biopsy', 'scan', 'mri', 'ct', 'blood', 'treatment', 'thiamine', 'neurological', 'radiation', 'chelation', 'renal', 'hepatic', 'pulmonary', 'cardiac', 'lam', 'long qt', 'mcleod syndrome'], 'diagnosis': 'Mcleod Syndrome'}\n"
          ]
        }
      ]
    },
    {
      "cell_type": "markdown",
      "source": [
        "Season 7 diagnosis: Mcleod Syndrome"
      ],
      "metadata": {
        "id": "pVqq9vO7vucq"
      }
    },
    {
      "cell_type": "code",
      "source": [
        "import pandas as pd\n",
        "\n",
        "df = pd.read_csv(\"season8.csv\")\n",
        "medical_team = ['House', 'Wilson', 'Foreman', 'Cameron', 'Chase', 'Cuddy']\n",
        "sample_lines = df[df['name'].isin(medical_team)].sample(30, random_state=1)\n",
        "print(sample_lines[['name', 'line']].to_string(index=False))"
      ],
      "metadata": {
        "colab": {
          "base_uri": "https://localhost:8080/"
        },
        "id": "9KfpVDF3onmv",
        "outputId": "15d6bb0c-91e7-4446-cd88-8f6757538e56"
      },
      "execution_count": 10,
      "outputs": [
        {
          "output_type": "stream",
          "name": "stdout",
          "text": [
            "   name                                                                                                                                                                                                                                                                                                                                                                                                                                                                                                                                                                                                                                                                                                     line\n",
            "  House                                                                                                                                                                                                                                                                                                                                                                                                                                                                                                                                                                                                         With two weeks on, two weeks off of chemo, you'll have way more than a year, maybe two or three.\n",
            "Foreman                                                                                                                                                                                                                                                                                                                                                                                                                                                                                                                                                                                                    Fine enough to get back to work? You don't have to work for House, but you do owe me 20 clinic hours.\n",
            "  Chase                                                                                                                                                                                                                                                                                                                                                                                                                                                                                                                                                This guy brushes her hair Every morning, brings home movies for them to watch together. You think he tosses her in a broom closet at the end of each day?\n",
            "  Chase                                                                                                                                                                                                                                                                                                                                                                                                                         Don't have to. [He gets up and crosses out all the solutions on the board.] Treiber's reports are thorough to a fault. His methods are fastidious. The answer isn't down here. [He moves to the other side of the room to wash his hands.] Treiber didn't miss anything. We did.\n",
            "  House                                                                                                                                                                                                                                                                                                                                                                                                                                                                                                                                                                                                                                                                            You need to get cotton swabs�\n",
            " Wilson                                                                                                                                                                                                                                                                                                                                                                                                                                                                                                                                                                                                                                                                          Be a pillar in the Parking lot.\n",
            "  House  Yes! if by \"tea,\" you mean salted tap water. And by \"drink,\" you mean poured up his nose. His girlfriend didn't just leave him with a broken heart. She left him with a neti pot. It's an Indian method of! clearing the sinuses during allergy season. Also known as now. [As House speaks, we see glimpses of the past: Henry is filling the pot with tap water and leaning over the sink, he puts water in his nose.] The distilled water can act as a snot flushing system. With tap water, it can act as an amoeba delivery system to the fluids around the brain. Start him on metronidazole. If he's lucky, he'll get to see his plastic Parkldren walk down the aisle. [Adams leaves the room.]\n",
            "  House                                                                                                                                                                                                                                                                                                                                                                                                                                                                                                                                                                                                                                 I said I was wrong. I didn't say I changed. I haven't. Neither have you�\n",
            "Foreman                                                                                                                                                                                                                                                                                                                                                                                                                                                                                                                                                                                                                                                     [enters with a blue file folder] Got a case for you.\n",
            "  Chase                                                                                                                                                                                                                                                                                                                                                                                                                                                                                                                                                                                                                                        What about ulcerative colitis? Earlier attacks caused thrombosis�\n",
            "  House                                                                                                                                                                                                                                                                                                                                                                                                                                                                                                                                                                                                                                                                    Guilt. You feel guilty about leaving.\n",
            "  House                                                                                                                                                                                                                                                                                                                                                                                                                                                                                                                           I did listen to you. Chase didn't listen to me. At this point, being here makes you feel better. You're not helping Chase or our Patient. [She turns back to the table.] Fine.\n",
            "  House                                                                                                                                                                                                                                                                                                                                                                                                                                                                                                                                                                                                                                                                                         Or pericarditis.\n",
            "  House                                                                                                                                                                                                                                                                                                                                                                                                                                                                                                                                                                                                                                                   It's a midline granuloma. Get your Patient a PET scan.\n",
            "Foreman                                                                                                                                                                                                                                                                                                                                                                                                                                                                                                                                                                                             And it only has 12 hours left. No pulse, no body. No ability to answer questions. It's your perfect Patient.\n",
            "  House                                                                                                                                                                                                                                                                                                                                                                                                                                                                                                                                                                                   There are some slower, less conclusive tests, but why take that risk? (He hurries out of the office and down the hall)\n",
            "  Chase                                                                                                                                                                                                                                                                                                                                                                                                                                                                                                                                                                                                                    Iris has dissociative identity disorder. Also known as multiple personality disorder.\n",
            "Foreman                                                                                                                                                                                                                                                                                                                                                                                                                                                                                                                                                                                                                                                                                      Taub, it's Foreman.\n",
            "  House                                                                                                                                                                                                                                                                                                                                                                                                                                                                                                                                                                   You do understand the irony here? Every person in this room has a sex doll. At least the Patient has the stones to be honest about it.\n",
            "Foreman                                                                                                                                                                                                                                                                                                                                                                                                                                                                                                                                                                                                                                                                                             What's this?\n",
            "  House                                                                                                                                                                                                                                                                                                                                                                                           People generally listen with their ears, leaving their eyes free to wander. I'm guessing that your testosterone lEvel is just below \"Bieber.\" Do a blood test to confirm, and start hormone replacement. It's no wonder that you think women are so great. You've basically been one for the last three years.\n",
            "  House                                                                                                                                                                                                                                                                                                                                                                                                                                                                                                                                                                                                                                                Well, it's a great argument if diabetes was a gold watch.\n",
            "  Chase                                                                                                                                                                                                                                                                                                                                                                                                                                                                                                                                                                                                                                                                        Looks like your ready to go!home.\n",
            "Foreman                                                                                                                                                                                                                                                                                                                                                                                                                                                                                                                                                                                                                                                            Show no sign of stroke or structural lesions.\n",
            "  House                                                                                                                                                                                                                                                                                                                                                                                                                                                                                                                                                                                                                                                                 Yeah. It's med-speak for she's an idiot.\n",
            "  House                                                                                                                                                                                                                                                                                                                                                                                                                                                                                                                                                                                                                                                                   You can't if you're not willing to do�\n",
            "  House                                                                                                                                                                                                                                                                                                                                                                                                                                                                                                                                                                                     All over? [He inserts a metal tool in the corpse's nose] I assume, from the silence, that Chase has had a Brazilian.\n",
            "  House                                                                                                                                                                                                                                                                                                                                                                                                                                                                                                                                                                                                                            Nothing! You can't prove otherwise. So why don't you do the smart thing here?\n",
            "Foreman                                                                                                                                                                                                                                                                                                                                                                                                                                                                                                                                                                                                                                                       I hope this isn't going where I assume it's going.\n",
            "  House                                                                                                                                                                                                                                                                                                                                                                                                                                                                                                                                                                                                                (tossing the Tic Tacs onto the table) Pleading guilty is not honorable. It's just stupid.\n"
          ]
        }
      ]
    },
    {
      "cell_type": "code",
      "source": [
        "import re\n",
        "\n",
        "df = pd.read_csv(\"season8.csv\")\n",
        "medical_team = ['House', 'Wilson', 'Foreman', 'Cameron', 'Chase', 'Cuddy']\n",
        "df = df[df['name'].isin(medical_team)]\n",
        "\n",
        "text_blob = \" \".join(df['line'].dropna().astype(str).tolist())\n",
        "\n",
        "known_diagnoses = [\n",
        "\n",
        "    \"tumor\", \"cancer\", \"lesion\", \"infection\", \"stroke\", \"flu\", \"anemia\", \"diabetes\", \"epilepsy\",\n",
        "    \"meningitis\", \"encephalopathy\", \"encephalitis\", \"lymphoma\", \"hodgkin's disease\", \"hiv\", \"aids\",\n",
        "    \"parkinson's\", \"multiple sclerosis\", \"tuberculosis\", \"sarcoidosis\", \"lupus\", \"alzheimer's\",\n",
        "    \"syphilis\", \"hepatitis\", \"rhabdomyosarcoma\", \"sclerosis\", \"toxoplasmosis\", \"sepsis\", \"pneumonia\",\n",
        "    \"appendicitis\", \"pancreatitis\", \"vasculitis\", \"rhabdomyolysis\", \"myocarditis\", \"pericarditis\",\n",
        "    \"kidney failure\", \"renal failure\", \"liver failure\", \"hepatic failure\", \"heart failure\",\n",
        "\n",
        "    \"ulcerative colitis\", \"pericarditis\", \"midline granuloma\",\n",
        "    \"dissociative identity disorder\",\n",
        "\n",
        "    \"amoebic encephalitis\", \"naegleria\", \"naegleria fowleri\"\n",
        "]\n",
        "\n",
        "def extract_age_gender(text):\n",
        "    m = re.search(r'(\\d{1,3})[-\\s]?(year old|y/o)\\s+(male|female|man|woman|boy|girl)', text.lower())\n",
        "    if m:\n",
        "        age = int(m.group(1))\n",
        "        gender = 'female' if m.group(3) in ['female','woman','girl'] else 'male'\n",
        "        return age, gender\n",
        "    return None, \"unknown\"\n",
        "\n",
        "def extract_symptoms(text):\n",
        "    symptoms_list = [\n",
        "        'cough','fever','fatigue','nausea','headache','seizure','pain','rash',\n",
        "        'vomiting','swelling','dizziness','bleeding','loss','diarrhea',\n",
        "        'confusion','weakness','chest pain','abdominal pain','shortness of breath'\n",
        "    ]\n",
        "    low = text.lower()\n",
        "    return [s for s in symptoms_list if s in low]\n",
        "\n",
        "def extract_medical_terms(text):\n",
        "    terms = [\n",
        "        'tumor','cancer','lesion','infection','biopsy','scan','mri','ct','x-ray','pet scan',\n",
        "        'blood','treatment','neurological','encephalopathy','contrast','radiation','metronidazole',\n",
        "        'renal','hepatic','pulmonary','cardiac','sepsis','embolus','thrombosis','autoimmune',\n",
        "        'liver','kidney','pneumonia','stroke','rhabdo','granuloma','pericarditis','colitis'\n",
        "    ]\n",
        "    low = text.lower()\n",
        "    return [t for t in terms if t in low]\n",
        "\n",
        "def extract_diagnosis(text):\n",
        "\n",
        "    patterns = [\n",
        "        r\"(?:diagnosis\\s+is|he has|she has|they have|you have|diagnosed with|consistent with|indicative of|it's|it is)\\s+([A-Za-z\\s\\-']{4,60})\\.\",\n",
        "        r\"\\b([A-Za-z][A-Za-z\\s\\-']{2,40})\\s+(?:failure|syndrome)\\b\"\n",
        "    ]\n",
        "    low = text.lower()\n",
        "    for pat in patterns:\n",
        "        matches = re.findall(pat, text, re.IGNORECASE)\n",
        "        for cand in matches:\n",
        "            c = cand.strip().lower()\n",
        "\n",
        "            if c in {\"the latter\",\"the former\",\"yes\",\"no\",\"maybe\",\"sure\",\"okay\",\"it\"}:\n",
        "                continue\n",
        "\n",
        "            for dx in known_diagnoses:\n",
        "                if dx.lower() in c:\n",
        "                    return dx.title()\n",
        "    return \"N/A\"\n",
        "\n",
        "age, gender = extract_age_gender(text_blob)\n",
        "symptoms = extract_symptoms(text_blob)\n",
        "medical_terms = extract_medical_terms(text_blob)\n",
        "diagnosis = extract_diagnosis(text_blob)\n",
        "\n",
        "case = {\n",
        "    \"age\": age,\n",
        "    \"gender\": gender,\n",
        "    \"symptoms\": symptoms,\n",
        "    \"medical_terms\": medical_terms,\n",
        "    \"diagnosis\": diagnosis\n",
        "}\n",
        "\n",
        "print(\"Extracted Case (Season 8):\")\n",
        "print(case)"
      ],
      "metadata": {
        "colab": {
          "base_uri": "https://localhost:8080/"
        },
        "id": "8ysGqP1pvlPS",
        "outputId": "eb68d469-7cdd-4000-ffe1-869458d63472"
      },
      "execution_count": 11,
      "outputs": [
        {
          "output_type": "stream",
          "name": "stdout",
          "text": [
            "Extracted Case (Season 8):\n",
            "{'age': None, 'gender': 'unknown', 'symptoms': ['cough', 'fever', 'fatigue', 'nausea', 'headache', 'seizure', 'pain', 'rash', 'vomiting', 'swelling', 'dizziness', 'bleeding', 'loss', 'diarrhea', 'confusion', 'chest pain', 'abdominal pain'], 'medical_terms': ['tumor', 'cancer', 'lesion', 'infection', 'biopsy', 'scan', 'mri', 'ct', 'x-ray', 'pet scan', 'blood', 'treatment', 'neurological', 'encephalopathy', 'contrast', 'radiation', 'metronidazole', 'renal', 'hepatic', 'pulmonary', 'cardiac', 'sepsis', 'thrombosis', 'autoimmune', 'liver', 'kidney', 'pneumonia', 'stroke', 'rhabdo', 'granuloma', 'pericarditis', 'colitis'], 'diagnosis': 'Lupus'}\n"
          ]
        }
      ]
    },
    {
      "cell_type": "markdown",
      "source": [
        "Season 8 Diagnosis: Lupus"
      ],
      "metadata": {
        "id": "Hesn4tpbwboE"
      }
    },
    {
      "cell_type": "code",
      "source": [],
      "metadata": {
        "id": "YuJUGP2DwOtZ"
      },
      "execution_count": null,
      "outputs": []
    },
    {
      "cell_type": "markdown",
      "source": [
        "# **Acuracy of the LLM**"
      ],
      "metadata": {
        "id": "m5uDR-1MDE86"
      }
    },
    {
      "cell_type": "code",
      "source": [
        "import pandas as pd\n",
        "import re\n",
        "from difflib import SequenceMatcher\n",
        "\n",
        "preds = {\n",
        "    1: \"Wernicke's encephalopathy\",\n",
        "    2: \"Tuberous Sclerosis; Alveolar Rhabdomyosarcoma\",\n",
        "    3: \"Infection\",\n",
        "    4: \"Sarcoidosis\",\n",
        "    5: \"A vasoconstrictor\",\n",
        "    6: \"Cancer\",\n",
        "    7: \"McLeod Syndrome\",\n",
        "    8: \"Lupus\"\n",
        "}\n",
        "\n",
        "truth = {\n",
        "    1: \"Neurocysticercosis\",\n",
        "    2: \"Alveolar Rhabdomyosarcoma\",\n",
        "    3: \"Takayasu's arteritis\",\n",
        "    4: \"Lupus\",\n",
        "    5: \"Transplanted cancer stem cells\",\n",
        "    6: \"Lymphoma\",\n",
        "    7: \"McLeod Syndrome\",\n",
        "    8: \"Mastocytosis\"\n",
        "}\n",
        "\n",
        "def normalize(s: str) -> str:\n",
        "    if not isinstance(s, str): return \"\"\n",
        "    s = s.lower().strip()\n",
        "    s = re.sub(r\"['’]\", \"\", s)\n",
        "    s = re.sub(r\"[-_/]\", \" \", s)\n",
        "    s = re.sub(r\"\\s+\", \" \", s)\n",
        "    return s\n",
        "\n",
        "def fuzzy(a: str, b: str) -> float:\n",
        "    return SequenceMatcher(None, normalize(a), normalize(b)).ratio()\n",
        "\n",
        "CATEGORY_MAP = {\n",
        "    \"lymphoma\": \"cancer\",\n",
        "    \"hodgkin\": \"cancer\",\n",
        "    \"rhabdomyosarcoma\": \"cancer\",\n",
        "    \"cancer\": \"cancer\",\n",
        "    \"neurocysticercosis\": \"infection\",\n",
        "    \"mastocytosis\": \"immune\",\n",
        "    \"lupus\": \"autoimmune\",\n",
        "    \"takayasu\": \"autoimmune\",\n",
        "    \"encephalopathy\": \"neuro\",\n",
        "    \"arteritis\": \"autoimmune\",\n",
        "    \"transplanted cancer stem cells\": \"cancer\"\n",
        "}\n",
        "\n",
        "def coarse_category(s: str) -> str:\n",
        "    s_norm = normalize(s)\n",
        "    for key, cat in CATEGORY_MAP.items():\n",
        "        if key in s_norm:\n",
        "            return cat\n",
        "\n",
        "    if \"infection\" in s_norm: return \"infection\"\n",
        "    if \"cancer\" in s_norm: return \"cancer\"\n",
        "    return \"\"\n",
        "\n",
        "def evaluate_case(pred: str, gold: str, fuzzy_thresh=0.78):\n",
        "    \"\"\"Returns dict of match flags & similarity.\"\"\"\n",
        "    pred_items = [p.strip() for p in re.split(r\"[;,]\", pred) if p.strip()]\n",
        "    gold_items = [g.strip() for g in re.split(r\"[;,]\", gold) if g.strip()]\n",
        "\n",
        "    best_sim = 0.0\n",
        "    exact_hit = False\n",
        "    fuzzy_hit = False\n",
        "    contains_true = False\n",
        "\n",
        "    for p in pred_items:\n",
        "        for g in gold_items:\n",
        "            sim = fuzzy(p, g)\n",
        "            best_sim = max(best_sim, sim)\n",
        "            if normalize(p) == normalize(g):\n",
        "                exact_hit = True\n",
        "            if sim >= fuzzy_thresh:\n",
        "                fuzzy_hit = True\n",
        "\n",
        "            if normalize(g) in normalize(p) or normalize(p) in normalize(g):\n",
        "                contains_true = True\n",
        "\n",
        "    pred_cat = coarse_category(pred)\n",
        "    gold_cat = coarse_category(gold)\n",
        "    partial_cat = (pred_cat != \"\" and gold_cat != \"\" and pred_cat == gold_cat)\n",
        "\n",
        "    strict = bool(exact_hit or fuzzy_hit or contains_true)\n",
        "\n",
        "    lenient = bool(strict or partial_cat)\n",
        "\n",
        "    return {\n",
        "        \"exact_hit\": exact_hit,\n",
        "        \"fuzzy_hit\": fuzzy_hit,\n",
        "        \"contains_true\": contains_true,\n",
        "        \"best_similarity\": round(best_sim, 3),\n",
        "        \"partial_category_match\": partial_cat,\n",
        "        \"strict_correct\": strict,\n",
        "        \"lenient_correct\": lenient,\n",
        "        \"pred_category\": pred_cat,\n",
        "        \"true_category\": gold_cat\n",
        "    }\n",
        "\n",
        "rows = []\n",
        "for season in sorted(truth.keys()):\n",
        "    pred = preds.get(season, \"\")\n",
        "    gold = truth[season]\n",
        "    eval_res = evaluate_case(pred, gold)\n",
        "    rows.append({\n",
        "        \"season\": season,\n",
        "        \"pred_dx\": pred,\n",
        "        \"true_dx\": gold,\n",
        "        \"similarity\": eval_res[\"best_similarity\"],\n",
        "        \"contains_true\": eval_res[\"contains_true\"],\n",
        "        \"strict_correct\": eval_res[\"strict_correct\"],\n",
        "        \"lenient_correct\": eval_res[\"lenient_correct\"],\n",
        "        \"pred_cat\": eval_res[\"pred_category\"],\n",
        "        \"true_cat\": eval_res[\"true_category\"]\n",
        "    })\n",
        "\n",
        "results = pd.DataFrame(rows)\n",
        "strict_acc = results[\"strict_correct\"].mean()\n",
        "lenient_acc = results[\"lenient_correct\"].mean()\n",
        "\n",
        "print(\"=== LLM Diagnosis Evaluation ===\")\n",
        "print(results)\n",
        "print(\"\\nStrict accuracy (exact/fuzzy/contains): {:.1%}\".format(strict_acc))\n",
        "print(\"Lenient accuracy (strict OR category match): {:.1%}\".format(lenient_acc))"
      ],
      "metadata": {
        "colab": {
          "base_uri": "https://localhost:8080/"
        },
        "id": "RxYmWkzPDIN_",
        "outputId": "c85007f5-803d-49d0-ee24-a8f5ae12977a"
      },
      "execution_count": 14,
      "outputs": [
        {
          "output_type": "stream",
          "name": "stdout",
          "text": [
            "=== LLM Diagnosis Evaluation ===\n",
            "   season                                        pred_dx  \\\n",
            "0       1                      Wernicke's encephalopathy   \n",
            "1       2  Tuberous Sclerosis; Alveolar Rhabdomyosarcoma   \n",
            "2       3                                      Infection   \n",
            "3       4                                    Sarcoidosis   \n",
            "4       5                              A vasoconstrictor   \n",
            "5       6                                         Cancer   \n",
            "6       7                                McLeod Syndrome   \n",
            "7       8                                          Lupus   \n",
            "\n",
            "                          true_dx  similarity  contains_true  strict_correct  \\\n",
            "0              Neurocysticercosis       0.190          False           False   \n",
            "1       Alveolar Rhabdomyosarcoma       1.000           True            True   \n",
            "2            Takayasu's arteritis       0.214          False           False   \n",
            "3                           Lupus       0.125          False           False   \n",
            "4  Transplanted cancer stem cells       0.255          False           False   \n",
            "5                        Lymphoma       0.143          False           False   \n",
            "6                 McLeod Syndrome       1.000           True            True   \n",
            "7                    Mastocytosis       0.118          False           False   \n",
            "\n",
            "   lenient_correct    pred_cat    true_cat  \n",
            "0            False       neuro   infection  \n",
            "1             True      cancer      cancer  \n",
            "2            False   infection  autoimmune  \n",
            "3            False              autoimmune  \n",
            "4            False                  cancer  \n",
            "5             True      cancer      cancer  \n",
            "6             True                          \n",
            "7            False  autoimmune      immune  \n",
            "\n",
            "Strict accuracy (exact/fuzzy/contains): 25.0%\n",
            "Lenient accuracy (strict OR category match): 37.5%\n"
          ]
        }
      ]
    },
    {
      "cell_type": "code",
      "source": [
        "import pandas as pd\n",
        "from sklearn.metrics import confusion_matrix, ConfusionMatrixDisplay\n",
        "llm_predictions = {\n",
        "    \"Season 1\": \"Wernicke's encephalopathy\",\n",
        "    \"Season 2\": \"Alveolar Rhabdomyosarcoma\",\n",
        "    \"Season 3\": \"Infection\",\n",
        "    \"Season 4\": \"Sarcoidosis\",\n",
        "    \"Season 5\": \"A vasoconstrictor\",\n",
        "    \"Season 6\": \"Cancer\",\n",
        "    \"Season 7\": \"Mcleod Syndrome\",\n",
        "    \"Season 8\": \"Lupus\"\n",
        "}\n",
        "ground_truth = {\n",
        "    \"Season 1\": \"Neurocysticercosis\",\n",
        "    \"Season 2\": \"Alveolar Rhabdomyosarcoma\",\n",
        "    \"Season 3\": \"Takayasu's arteritis\",\n",
        "    \"Season 4\": \"Lupus\",\n",
        "    \"Season 5\": \"Transplanted cancer stem cells\",\n",
        "    \"Season 6\": \"Lymphoma\",\n",
        "    \"Season 7\": \"McLeod Syndrome\",\n",
        "    \"Season 8\": \"Mastocytosis\"\n",
        "}\n",
        "df = pd.DataFrame({\n",
        "    \"Season\": list(llm_predictions.keys()),\n",
        "    \"LLM_Prediction\": [llm_predictions[s] for s in llm_predictions],\n",
        "    \"True_Diagnosis\": [ground_truth[s] for s in llm_predictions]\n",
        "})\n",
        "df[\"Match\"] = df[\"LLM_Prediction\"].str.lower() == df[\"True_Diagnosis\"].str.lower()\n",
        "accuracy = df[\"Match\"].mean() * 100\n",
        "\n",
        "print(\"LLM Diagnostic Accuracy: {:.2f}%\".format(accuracy))\n",
        "print(df)\n",
        "labels = sorted(set(ground_truth.values()) | set(llm_predictions.values()))\n",
        "y_true = [ground_truth[s] for s in llm_predictions]\n",
        "y_pred = [llm_predictions[s] for s in llm_predictions]\n",
        "\n",
        "cm = confusion_matrix(y_true, y_pred, labels=labels)\n",
        "disp = ConfusionMatrixDisplay(confusion_matrix=cm, display_labels=labels)\n",
        "disp.plot(xticks_rotation=90)"
      ],
      "metadata": {
        "colab": {
          "base_uri": "https://localhost:8080/",
          "height": 847
        },
        "id": "SuaOJ_b1DLeB",
        "outputId": "d12d5216-22ad-4f70-c697-6079122fdb0e"
      },
      "execution_count": 15,
      "outputs": [
        {
          "output_type": "stream",
          "name": "stdout",
          "text": [
            "LLM Diagnostic Accuracy: 25.00%\n",
            "     Season             LLM_Prediction                  True_Diagnosis  Match\n",
            "0  Season 1  Wernicke's encephalopathy              Neurocysticercosis  False\n",
            "1  Season 2  Alveolar Rhabdomyosarcoma       Alveolar Rhabdomyosarcoma   True\n",
            "2  Season 3                  Infection            Takayasu's arteritis  False\n",
            "3  Season 4                Sarcoidosis                           Lupus  False\n",
            "4  Season 5          A vasoconstrictor  Transplanted cancer stem cells  False\n",
            "5  Season 6                     Cancer                        Lymphoma  False\n",
            "6  Season 7            Mcleod Syndrome                 McLeod Syndrome   True\n",
            "7  Season 8                      Lupus                    Mastocytosis  False\n"
          ]
        },
        {
          "output_type": "execute_result",
          "data": {
            "text/plain": [
              "<sklearn.metrics._plot.confusion_matrix.ConfusionMatrixDisplay at 0x7d5c582f20d0>"
            ]
          },
          "metadata": {},
          "execution_count": 15
        },
        {
          "output_type": "display_data",
          "data": {
            "text/plain": [
              "<Figure size 640x480 with 2 Axes>"
            ],
            "image/png": "[encoded data removed]"
          },
          "metadata": {}
        }
      ]
    },
    {
      "cell_type": "code",
      "source": [
        "import re\n",
        "from difflib import SequenceMatcher\n",
        "\n",
        "llm_predictions = {\n",
        "    \"Season 1\": \"Wernicke's encephalopathy\",\n",
        "    \"Season 2\": \"Tuberous Sclerosis; Alveolar Rhabdomyosarcoma\",\n",
        "    \"Season 3\": \"Infection\",\n",
        "    \"Season 4\": \"Sarcoidosis\",\n",
        "    \"Season 5\": \"A vasoconstrictor\",\n",
        "    \"Season 6\": \"Cancer\",\n",
        "    \"Season 7\": \"McLeod Syndrome\",\n",
        "    \"Season 8\": \"Lupus\"\n",
        "}\n",
        "\n",
        "ground_truth = {\n",
        "    \"Season 1\": \"Neurocysticercosis\",\n",
        "    \"Season 2\": \"Alveolar Rhabdomyosarcoma\",\n",
        "    \"Season 3\": \"Takayasu's arteritis\",\n",
        "    \"Season 4\": \"Lupus\",\n",
        "    \"Season 5\": \"Transplanted cancer stem cells\",\n",
        "    \"Season 6\": \"Lymphoma\",\n",
        "    \"Season 7\": \"McLeod Syndrome\",\n",
        "    \"Season 8\": \"Mastocytosis\"\n",
        "}\n",
        "def normalize(s: str) -> str:\n",
        "    if not isinstance(s, str): return \"\"\n",
        "    s = s.lower().strip()\n",
        "    s = re.sub(r\"['’]\", \"\", s)\n",
        "    s = re.sub(r\"[-_/]\", \" \", s)\n",
        "    s = re.sub(r\"\\s+\", \" \", s)\n",
        "    return s\n",
        "\n",
        "def fuzzy(a: str, b: str) -> float:\n",
        "    return SequenceMatcher(None, normalize(a), normalize(b)).ratio()\n",
        "\n",
        "CATEGORY_MAP = {\n",
        "    \"lymphoma\": \"cancer\",\n",
        "    \"hodgkin\": \"cancer\",\n",
        "    \"rhabdomyosarcoma\": \"cancer\",\n",
        "    \"cancer\": \"cancer\",\n",
        "    \"transplanted cancer stem cells\": \"cancer\",\n",
        "\n",
        "    \"neurocysticercosis\": \"infection\",\n",
        "    \"mastocytosis\": \"immune\",\n",
        "    \"infection\": \"infection\",\n",
        "\n",
        "    \"lupus\": \"autoimmune\",\n",
        "    \"takayasu\": \"autoimmune\",\n",
        "    \"arteritis\": \"autoimmune\",\n",
        "\n",
        "    \"encephalopathy\": \"neuro\",\n",
        "    \"wernicke\": \"neuro\",\n",
        "    \"mcleod\": \"hematologic\"\n",
        "}\n",
        "\n",
        "def coarse_category(s: str) -> str:\n",
        "    s_norm = normalize(s)\n",
        "    for key, cat in CATEGORY_MAP.items():\n",
        "        if key in s_norm:\n",
        "            return cat\n",
        "    return \"\"\n",
        "\n",
        "def evaluate_case(pred: str, gold: str, fuzzy_thresh=0.78):\n",
        "    \"\"\"Return strict/lenient flags + best similarity + categories.\"\"\"\n",
        "    pred_items = [p.strip() for p in re.split(r\"[;,]\", pred) if p.strip()]\n",
        "    gold_items = [g.strip() for g in re.split(r\"[;,]\", gold) if g.strip()]\n",
        "\n",
        "    exact_hit = False\n",
        "    fuzzy_hit = False\n",
        "    contains_true = False\n",
        "    best_sim = 0.0\n",
        "\n",
        "    for p in pred_items:\n",
        "        for g in gold_items:\n",
        "            sim = fuzzy(p, g)\n",
        "            best_sim = max(best_sim, sim)\n",
        "            if normalize(p) == normalize(g):\n",
        "                exact_hit = True\n",
        "            if sim >= fuzzy_thresh:\n",
        "                fuzzy_hit = True\n",
        "            if normalize(g) in normalize(p):\n",
        "                contains_true = True\n",
        "\n",
        "    strict = bool(exact_hit or fuzzy_hit or contains_true)\n",
        "\n",
        "    pred_cat = coarse_category(pred)\n",
        "    gold_cat = coarse_category(gold)\n",
        "    partial_cat = (not strict) and (pred_cat != \"\" and gold_cat != \"\" and pred_cat == gold_cat)\n",
        "\n",
        "    lenient = bool(strict or partial_cat)\n",
        "\n",
        "    return {\n",
        "        \"best_similarity\": round(best_sim, 3),\n",
        "        \"strict_correct\": strict,\n",
        "        \"partial_match\": partial_cat,\n",
        "        \"lenient_correct\": lenient,\n",
        "        \"pred_category\": pred_cat,\n",
        "        \"true_category\": gold_cat\n",
        "    }\n",
        "\n",
        "rows = []\n",
        "for season in ground_truth:\n",
        "    pred = llm_predictions.get(season, \"\")\n",
        "    gold = ground_truth[season]\n",
        "    res = evaluate_case(pred, gold)\n",
        "    outcome = \"Correct\" if res[\"strict_correct\"] else (\"Partial\" if res[\"partial_match\"] else \"Incorrect\")\n",
        "    rows.append({\n",
        "        \"season\": season,\n",
        "        \"pred_dx\": pred,\n",
        "        \"true_dx\": gold,\n",
        "        \"similarity\": res[\"best_similarity\"],\n",
        "        \"pred_cat\": res[\"pred_category\"],\n",
        "        \"true_cat\": res[\"true_category\"],\n",
        "        \"outcome\": outcome,\n",
        "        \"strict_correct\": res[\"strict_correct\"],\n",
        "        \"lenient_correct\": res[\"lenient_correct\"]\n",
        "    })\n",
        "\n",
        "results = pd.DataFrame(rows).sort_values(\"season\")\n",
        "strict_acc = results[\"strict_correct\"].mean()\n",
        "lenient_acc = results[\"lenient_correct\"].mean()\n",
        "\n",
        "print(\"=== LLM Diagnosis Evaluation (Strict + Partial Credit) ===\")\n",
        "print(results[[\"season\", \"pred_dx\", \"true_dx\", \"similarity\", \"pred_cat\", \"true_cat\", \"outcome\"]].to_string(index=False))\n",
        "print(\"\\nStrict accuracy:  {:.1%}\".format(strict_acc))\n",
        "print(\"Lenient accuracy: {:.1%}\".format(lenient_acc))\n",
        "\n",
        "counts = results[\"outcome\"].value_counts().reindex([\"Correct\",\"Partial\",\"Incorrect\"]).fillna(0)\n",
        "plt.figure(figsize=(5,3))\n",
        "counts.plot(kind=\"bar\")\n",
        "plt.title(\"LLM Diagnosis Outcomes\")\n",
        "plt.xlabel(\"Outcome\")\n",
        "plt.ylabel(\"Count\")\n",
        "plt.tight_layout()\n",
        "plt.show()"
      ],
      "metadata": {
        "colab": {
          "base_uri": "https://localhost:8080/",
          "height": 533
        },
        "id": "21h4mhJ0KRRj",
        "outputId": "63270ef6-3ece-40b3-ef0d-4f0bde387044"
      },
      "execution_count": 16,
      "outputs": [
        {
          "output_type": "stream",
          "name": "stdout",
          "text": [
            "=== LLM Diagnosis Evaluation (Strict + Partial Credit) ===\n",
            "  season                                       pred_dx                        true_dx  similarity    pred_cat    true_cat   outcome\n",
            "Season 1                     Wernicke's encephalopathy             Neurocysticercosis       0.190       neuro   infection Incorrect\n",
            "Season 2 Tuberous Sclerosis; Alveolar Rhabdomyosarcoma      Alveolar Rhabdomyosarcoma       1.000      cancer      cancer   Correct\n",
            "Season 3                                     Infection           Takayasu's arteritis       0.214   infection  autoimmune Incorrect\n",
            "Season 4                                   Sarcoidosis                          Lupus       0.125              autoimmune Incorrect\n",
            "Season 5                             A vasoconstrictor Transplanted cancer stem cells       0.255                  cancer Incorrect\n",
            "Season 6                                        Cancer                       Lymphoma       0.143      cancer      cancer   Partial\n",
            "Season 7                               McLeod Syndrome                McLeod Syndrome       1.000 hematologic hematologic   Correct\n",
            "Season 8                                         Lupus                   Mastocytosis       0.118  autoimmune      immune Incorrect\n",
            "\n",
            "Strict accuracy:  25.0%\n",
            "Lenient accuracy: 37.5%\n"
          ]
        },
        {
          "output_type": "display_data",
          "data": {
            "text/plain": [
              "<Figure size 500x300 with 1 Axes>"
            ],
            "image/png": "[encoded data removed]"
          },
          "metadata": {}
        }
      ]
    },
    {
      "cell_type": "code",
      "source": [],
      "metadata": {
        "id": "QkJCM-50N8t0"
      },
      "execution_count": null,
      "outputs": []
    }
  ]
}